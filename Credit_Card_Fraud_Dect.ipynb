{
  "cells": [
    {
      "cell_type": "markdown",
      "metadata": {
        "id": "view-in-github",
        "colab_type": "text"
      },
      "source": [
        "<a href=\"https://colab.research.google.com/github/jack-kennedy56/jack-kennedy56/blob/main/Credit_Card_Fraud_Dect.ipynb\" target=\"_parent\"><img src=\"https://colab.research.google.com/assets/colab-badge.svg\" alt=\"Open In Colab\"/></a>"
      ]
    },
    {
      "cell_type": "code",
      "source": [
        "!pip install scikit-plot\n",
        "from scikitplot.estimators import plot_feature_importances\n",
        "from scikitplot.metrics import plot_confusion_matrix, plot_roc"
      ],
      "metadata": {
        "id": "3AbwcG56kGXp"
      },
      "execution_count": null,
      "outputs": []
    },
    {
      "cell_type": "code",
      "execution_count": null,
      "metadata": {
        "id": "QmXUQB_qP87U"
      },
      "outputs": [],
      "source": [
        "import pandas as pd\n",
        "import numpy as np\n",
        "import matplotlib.pyplot as plt\n",
        "\n",
        "from imblearn.over_sampling import RandomOverSampler\n",
        "import collections\n",
        "import plotly.express as px\n",
        "import plotly.graph_objects as go\n",
        "import itertools\n",
        "from sklearn.preprocessing import RobustScaler\n",
        "from imblearn import under_sampling, over_sampling\n",
        "from imblearn.over_sampling import SMOTE\n",
        "from sklearn.model_selection import train_test_split, cross_val_score\n",
        "from sklearn.metrics import mean_squared_error,confusion_matrix, classification_report\n",
        "from sklearn.metrics import accuracy_score\n",
        "from sklearn.preprocessing import scale\n",
        "from sklearn.model_selection import KFold\n",
        "from xgboost import XGBRegressor,XGBClassifier\n",
        "from sklearn import metrics\n",
        "from sklearn.neighbors import KNeighborsClassifier\n",
        "from sklearn.metrics import confusion_matrix,accuracy_score,precision_score,recall_score,f1_score,matthews_corrcoef,classification_report\n",
        "import seaborn as sns\n",
        "from sklearn.model_selection import GridSearchCV\n",
        "from sklearn.ensemble import RandomForestClassifier\n",
        "from sklearn.tree import DecisionTreeClassifier\n",
        "from sklearn.model_selection import RandomizedSearchCV\n",
        "from sklearn.manifold import TSNE\n",
        "from sklearn.decomposition import PCA, TruncatedSVD\n",
        "import matplotlib.patches as mpatches\n",
        "\n",
        "from sklearn.model_selection import StratifiedShuffleSplit\n",
        "from sklearn.model_selection import KFold, StratifiedKFold\n",
        "\n",
        "\n",
        "\n",
        "import xgboost as xgb\n",
        "import scikitplot as skplt\n",
        "\n",
        "%matplotlib inline"
      ]
    },
    {
      "cell_type": "code",
      "source": [
        "df = pd.read_csv(\"creditcard.csv\")"
      ],
      "metadata": {
        "id": "0VyShE225cAI"
      },
      "execution_count": null,
      "outputs": []
    },
    {
      "cell_type": "code",
      "source": [
        "df.shape"
      ],
      "metadata": {
        "colab": {
          "base_uri": "https://localhost:8080/"
        },
        "id": "sOLMx5lriVCh",
        "outputId": "b3ed79a7-a93d-475a-bf4a-a62e819ff085"
      },
      "execution_count": null,
      "outputs": [
        {
          "output_type": "execute_result",
          "data": {
            "text/plain": [
              "(284807, 31)"
            ]
          },
          "metadata": {},
          "execution_count": 6
        }
      ]
    },
    {
      "cell_type": "code",
      "source": [
        "df = df.sample(frac=.40)"
      ],
      "metadata": {
        "id": "UHCRqv8ukWMJ"
      },
      "execution_count": null,
      "outputs": []
    },
    {
      "cell_type": "code",
      "source": [
        "df.shape"
      ],
      "metadata": {
        "colab": {
          "base_uri": "https://localhost:8080/"
        },
        "id": "1vXyZqe0kcMD",
        "outputId": "9e82e418-fdc1-4d11-eeb2-943a340913ca"
      },
      "execution_count": null,
      "outputs": [
        {
          "output_type": "execute_result",
          "data": {
            "text/plain": [
              "(113923, 31)"
            ]
          },
          "metadata": {},
          "execution_count": 8
        }
      ]
    },
    {
      "cell_type": "code",
      "source": [
        "#print what percentage of imbalance in fraud\n",
        "print('No Frauds', round(df['Class'].value_counts()[0]/len(df) * 100,2), '% of the dataset')\n",
        "print('Frauds', round(df['Class'].value_counts()[1]/len(df) * 100,2), '% of the dataset')"
      ],
      "metadata": {
        "colab": {
          "base_uri": "https://localhost:8080/"
        },
        "id": "0mwjkQkiPyJ2",
        "outputId": "526cf6ba-1efb-495e-a609-4cf4b251f209"
      },
      "execution_count": null,
      "outputs": [
        {
          "output_type": "stream",
          "name": "stdout",
          "text": [
            "No Frauds 99.82 % of the dataset\n",
            "Frauds 0.18 % of the dataset\n"
          ]
        }
      ]
    },
    {
      "cell_type": "code",
      "source": [
        "#imbalance in the data\n",
        "fraud = df[df['Class'] == 1] \n",
        "valid = df[df['Class'] == 0] \n",
        "outlierFraction = len(fraud)/float(len(valid)) \n",
        "print(outlierFraction) \n",
        "print('Fraud Cases: {}'.format(len(df[df['Class'] == 1]))) \n",
        "print('Valid Transactions: {}'.format(len(df[df['Class'] == 0]))) "
      ],
      "metadata": {
        "colab": {
          "base_uri": "https://localhost:8080/"
        },
        "id": "UEdmL3c3qIye",
        "outputId": "92da7f49-8cbb-4721-f0f2-290ab4ac8cd2"
      },
      "execution_count": null,
      "outputs": [
        {
          "output_type": "stream",
          "name": "stdout",
          "text": [
            "0.0018027049367734219\n",
            "Fraud Cases: 205\n",
            "Valid Transactions: 113718\n"
          ]
        }
      ]
    },
    {
      "cell_type": "code",
      "source": [
        "from sklearn.preprocessing import RobustScaler\n",
        "rs = RobustScaler()\n",
        "df['scaled_amount'] = rs.fit_transform(df['Amount'].values.reshape(-1,1))\n",
        "df['scaled_time'] = rs.fit_transform(df['Time'].values.reshape(-1,1))"
      ],
      "metadata": {
        "id": "jz4LrSf0YSkq"
      },
      "execution_count": null,
      "outputs": []
    },
    {
      "cell_type": "code",
      "source": [
        "df.drop(['Time', 'Amount'], axis=1, inplace=True)\n",
        "scaled_amount = df['scaled_amount']\n",
        "scaled_time = df['scaled_time']\n",
        "df.drop(['scaled_amount', 'scaled_time'], axis=1, inplace=True)\n",
        "df.insert(0, 'scaled_amount', scaled_amount)\n",
        "df.insert(0, 'scaled_time', scaled_time)\n",
        "df.head()"
      ],
      "metadata": {
        "colab": {
          "base_uri": "https://localhost:8080/",
          "height": 300
        },
        "id": "NUIJccEcYh1t",
        "outputId": "cfaba1d1-04ac-4371-f4c0-8a72d01f2876"
      },
      "execution_count": null,
      "outputs": [
        {
          "output_type": "execute_result",
          "data": {
            "text/plain": [
              "        scaled_time  scaled_amount        V1        V2        V3        V4  \\\n",
              "207147     0.606979      -0.166505 -1.149908  1.588097  0.448899 -1.057643   \n",
              "126456    -0.078690      -0.291383  1.180924 -0.371413  1.023780 -0.700682   \n",
              "70112     -0.363318       2.995699 -8.639861 -7.230895  0.628405  1.577939   \n",
              "222081     0.680455       0.246982  1.770190  0.126878 -0.211411  3.910886   \n",
              "227542     0.707470      -0.070765 -0.859026 -0.121156  1.036822 -2.452687   \n",
              "\n",
              "              V5        V6        V7        V8  ...       V20       V21  \\\n",
              "207147  0.307357  0.310040 -0.431568 -3.237703  ... -0.542320  2.679349   \n",
              "126456 -1.161341 -0.535840 -0.627656  0.071298  ... -0.153179  0.039372   \n",
              "70112   2.483319 -1.974031  1.021502 -2.678088  ... -6.929628 -1.734174   \n",
              "222081  0.202859  1.031399 -0.328241  0.257418  ... -0.182040  0.142627   \n",
              "227542  0.614687 -0.936433  0.394899 -0.074166  ...  0.159394  0.506440   \n",
              "\n",
              "             V22       V23       V24       V25       V26       V27       V28  \\\n",
              "207147 -1.743775  0.281337 -0.909653 -0.040987 -0.210292  0.271157 -0.095355   \n",
              "126456  0.407713  0.031331  0.430562  0.391750 -0.677858  0.112077  0.035686   \n",
              "70112   0.801580  3.488946  0.627638  1.370061  0.602821  1.168051 -0.640708   \n",
              "222081  0.602677  0.068658  0.787639  0.087737  0.077220 -0.009434 -0.041297   \n",
              "227542  1.152649 -0.611726 -0.288577  1.086490  0.116335 -0.049833  0.024168   \n",
              "\n",
              "        Class  \n",
              "207147      0  \n",
              "126456      0  \n",
              "70112       0  \n",
              "222081      0  \n",
              "227542      0  \n",
              "\n",
              "[5 rows x 31 columns]"
            ],
            "text/html": [
              "\n",
              "  <div id=\"df-668a73a5-0784-4223-84c9-b4e2996a833a\">\n",
              "    <div class=\"colab-df-container\">\n",
              "      <div>\n",
              "<style scoped>\n",
              "    .dataframe tbody tr th:only-of-type {\n",
              "        vertical-align: middle;\n",
              "    }\n",
              "\n",
              "    .dataframe tbody tr th {\n",
              "        vertical-align: top;\n",
              "    }\n",
              "\n",
              "    .dataframe thead th {\n",
              "        text-align: right;\n",
              "    }\n",
              "</style>\n",
              "<table border=\"1\" class=\"dataframe\">\n",
              "  <thead>\n",
              "    <tr style=\"text-align: right;\">\n",
              "      <th></th>\n",
              "      <th>scaled_time</th>\n",
              "      <th>scaled_amount</th>\n",
              "      <th>V1</th>\n",
              "      <th>V2</th>\n",
              "      <th>V3</th>\n",
              "      <th>V4</th>\n",
              "      <th>V5</th>\n",
              "      <th>V6</th>\n",
              "      <th>V7</th>\n",
              "      <th>V8</th>\n",
              "      <th>...</th>\n",
              "      <th>V20</th>\n",
              "      <th>V21</th>\n",
              "      <th>V22</th>\n",
              "      <th>V23</th>\n",
              "      <th>V24</th>\n",
              "      <th>V25</th>\n",
              "      <th>V26</th>\n",
              "      <th>V27</th>\n",
              "      <th>V28</th>\n",
              "      <th>Class</th>\n",
              "    </tr>\n",
              "  </thead>\n",
              "  <tbody>\n",
              "    <tr>\n",
              "      <th>207147</th>\n",
              "      <td>0.606979</td>\n",
              "      <td>-0.166505</td>\n",
              "      <td>-1.149908</td>\n",
              "      <td>1.588097</td>\n",
              "      <td>0.448899</td>\n",
              "      <td>-1.057643</td>\n",
              "      <td>0.307357</td>\n",
              "      <td>0.310040</td>\n",
              "      <td>-0.431568</td>\n",
              "      <td>-3.237703</td>\n",
              "      <td>...</td>\n",
              "      <td>-0.542320</td>\n",
              "      <td>2.679349</td>\n",
              "      <td>-1.743775</td>\n",
              "      <td>0.281337</td>\n",
              "      <td>-0.909653</td>\n",
              "      <td>-0.040987</td>\n",
              "      <td>-0.210292</td>\n",
              "      <td>0.271157</td>\n",
              "      <td>-0.095355</td>\n",
              "      <td>0</td>\n",
              "    </tr>\n",
              "    <tr>\n",
              "      <th>126456</th>\n",
              "      <td>-0.078690</td>\n",
              "      <td>-0.291383</td>\n",
              "      <td>1.180924</td>\n",
              "      <td>-0.371413</td>\n",
              "      <td>1.023780</td>\n",
              "      <td>-0.700682</td>\n",
              "      <td>-1.161341</td>\n",
              "      <td>-0.535840</td>\n",
              "      <td>-0.627656</td>\n",
              "      <td>0.071298</td>\n",
              "      <td>...</td>\n",
              "      <td>-0.153179</td>\n",
              "      <td>0.039372</td>\n",
              "      <td>0.407713</td>\n",
              "      <td>0.031331</td>\n",
              "      <td>0.430562</td>\n",
              "      <td>0.391750</td>\n",
              "      <td>-0.677858</td>\n",
              "      <td>0.112077</td>\n",
              "      <td>0.035686</td>\n",
              "      <td>0</td>\n",
              "    </tr>\n",
              "    <tr>\n",
              "      <th>70112</th>\n",
              "      <td>-0.363318</td>\n",
              "      <td>2.995699</td>\n",
              "      <td>-8.639861</td>\n",
              "      <td>-7.230895</td>\n",
              "      <td>0.628405</td>\n",
              "      <td>1.577939</td>\n",
              "      <td>2.483319</td>\n",
              "      <td>-1.974031</td>\n",
              "      <td>1.021502</td>\n",
              "      <td>-2.678088</td>\n",
              "      <td>...</td>\n",
              "      <td>-6.929628</td>\n",
              "      <td>-1.734174</td>\n",
              "      <td>0.801580</td>\n",
              "      <td>3.488946</td>\n",
              "      <td>0.627638</td>\n",
              "      <td>1.370061</td>\n",
              "      <td>0.602821</td>\n",
              "      <td>1.168051</td>\n",
              "      <td>-0.640708</td>\n",
              "      <td>0</td>\n",
              "    </tr>\n",
              "    <tr>\n",
              "      <th>222081</th>\n",
              "      <td>0.680455</td>\n",
              "      <td>0.246982</td>\n",
              "      <td>1.770190</td>\n",
              "      <td>0.126878</td>\n",
              "      <td>-0.211411</td>\n",
              "      <td>3.910886</td>\n",
              "      <td>0.202859</td>\n",
              "      <td>1.031399</td>\n",
              "      <td>-0.328241</td>\n",
              "      <td>0.257418</td>\n",
              "      <td>...</td>\n",
              "      <td>-0.182040</td>\n",
              "      <td>0.142627</td>\n",
              "      <td>0.602677</td>\n",
              "      <td>0.068658</td>\n",
              "      <td>0.787639</td>\n",
              "      <td>0.087737</td>\n",
              "      <td>0.077220</td>\n",
              "      <td>-0.009434</td>\n",
              "      <td>-0.041297</td>\n",
              "      <td>0</td>\n",
              "    </tr>\n",
              "    <tr>\n",
              "      <th>227542</th>\n",
              "      <td>0.707470</td>\n",
              "      <td>-0.070765</td>\n",
              "      <td>-0.859026</td>\n",
              "      <td>-0.121156</td>\n",
              "      <td>1.036822</td>\n",
              "      <td>-2.452687</td>\n",
              "      <td>0.614687</td>\n",
              "      <td>-0.936433</td>\n",
              "      <td>0.394899</td>\n",
              "      <td>-0.074166</td>\n",
              "      <td>...</td>\n",
              "      <td>0.159394</td>\n",
              "      <td>0.506440</td>\n",
              "      <td>1.152649</td>\n",
              "      <td>-0.611726</td>\n",
              "      <td>-0.288577</td>\n",
              "      <td>1.086490</td>\n",
              "      <td>0.116335</td>\n",
              "      <td>-0.049833</td>\n",
              "      <td>0.024168</td>\n",
              "      <td>0</td>\n",
              "    </tr>\n",
              "  </tbody>\n",
              "</table>\n",
              "<p>5 rows × 31 columns</p>\n",
              "</div>\n",
              "      <button class=\"colab-df-convert\" onclick=\"convertToInteractive('df-668a73a5-0784-4223-84c9-b4e2996a833a')\"\n",
              "              title=\"Convert this dataframe to an interactive table.\"\n",
              "              style=\"display:none;\">\n",
              "        \n",
              "  <svg xmlns=\"http://www.w3.org/2000/svg\" height=\"24px\"viewBox=\"0 0 24 24\"\n",
              "       width=\"24px\">\n",
              "    <path d=\"M0 0h24v24H0V0z\" fill=\"none\"/>\n",
              "    <path d=\"M18.56 5.44l.94 2.06.94-2.06 2.06-.94-2.06-.94-.94-2.06-.94 2.06-2.06.94zm-11 1L8.5 8.5l.94-2.06 2.06-.94-2.06-.94L8.5 2.5l-.94 2.06-2.06.94zm10 10l.94 2.06.94-2.06 2.06-.94-2.06-.94-.94-2.06-.94 2.06-2.06.94z\"/><path d=\"M17.41 7.96l-1.37-1.37c-.4-.4-.92-.59-1.43-.59-.52 0-1.04.2-1.43.59L10.3 9.45l-7.72 7.72c-.78.78-.78 2.05 0 2.83L4 21.41c.39.39.9.59 1.41.59.51 0 1.02-.2 1.41-.59l7.78-7.78 2.81-2.81c.8-.78.8-2.07 0-2.86zM5.41 20L4 18.59l7.72-7.72 1.47 1.35L5.41 20z\"/>\n",
              "  </svg>\n",
              "      </button>\n",
              "      \n",
              "  <style>\n",
              "    .colab-df-container {\n",
              "      display:flex;\n",
              "      flex-wrap:wrap;\n",
              "      gap: 12px;\n",
              "    }\n",
              "\n",
              "    .colab-df-convert {\n",
              "      background-color: #E8F0FE;\n",
              "      border: none;\n",
              "      border-radius: 50%;\n",
              "      cursor: pointer;\n",
              "      display: none;\n",
              "      fill: #1967D2;\n",
              "      height: 32px;\n",
              "      padding: 0 0 0 0;\n",
              "      width: 32px;\n",
              "    }\n",
              "\n",
              "    .colab-df-convert:hover {\n",
              "      background-color: #E2EBFA;\n",
              "      box-shadow: 0px 1px 2px rgba(60, 64, 67, 0.3), 0px 1px 3px 1px rgba(60, 64, 67, 0.15);\n",
              "      fill: #174EA6;\n",
              "    }\n",
              "\n",
              "    [theme=dark] .colab-df-convert {\n",
              "      background-color: #3B4455;\n",
              "      fill: #D2E3FC;\n",
              "    }\n",
              "\n",
              "    [theme=dark] .colab-df-convert:hover {\n",
              "      background-color: #434B5C;\n",
              "      box-shadow: 0px 1px 3px 1px rgba(0, 0, 0, 0.15);\n",
              "      filter: drop-shadow(0px 1px 2px rgba(0, 0, 0, 0.3));\n",
              "      fill: #FFFFFF;\n",
              "    }\n",
              "  </style>\n",
              "\n",
              "      <script>\n",
              "        const buttonEl =\n",
              "          document.querySelector('#df-668a73a5-0784-4223-84c9-b4e2996a833a button.colab-df-convert');\n",
              "        buttonEl.style.display =\n",
              "          google.colab.kernel.accessAllowed ? 'block' : 'none';\n",
              "\n",
              "        async function convertToInteractive(key) {\n",
              "          const element = document.querySelector('#df-668a73a5-0784-4223-84c9-b4e2996a833a');\n",
              "          const dataTable =\n",
              "            await google.colab.kernel.invokeFunction('convertToInteractive',\n",
              "                                                     [key], {});\n",
              "          if (!dataTable) return;\n",
              "\n",
              "          const docLinkHtml = 'Like what you see? Visit the ' +\n",
              "            '<a target=\"_blank\" href=https://colab.research.google.com/notebooks/data_table.ipynb>data table notebook</a>'\n",
              "            + ' to learn more about interactive tables.';\n",
              "          element.innerHTML = '';\n",
              "          dataTable['output_type'] = 'display_data';\n",
              "          await google.colab.output.renderOutput(dataTable, element);\n",
              "          const docLink = document.createElement('div');\n",
              "          docLink.innerHTML = docLinkHtml;\n",
              "          element.appendChild(docLink);\n",
              "        }\n",
              "      </script>\n",
              "    </div>\n",
              "  </div>\n",
              "  "
            ]
          },
          "metadata": {},
          "execution_count": 12
        }
      ]
    },
    {
      "cell_type": "code",
      "source": [
        "X = df.drop([\"Class\"], axis= 1)\n",
        "Y = df[\"Class\"]\n",
        "(X_train, X_test, Y_train, Y_test) = train_test_split(X, Y, test_size= 0.3, random_state= 42)\n",
        "print(\"Shape of X_train: \", X_train.shape)\n",
        "print(\"Shape of X_test: \", X_test.shape)"
      ],
      "metadata": {
        "colab": {
          "base_uri": "https://localhost:8080/"
        },
        "id": "dbS63v_aYkX3",
        "outputId": "1e9b8704-e6ee-4dee-ba87-48d35de8a9f7"
      },
      "execution_count": null,
      "outputs": [
        {
          "output_type": "stream",
          "name": "stdout",
          "text": [
            "Shape of X_train:  (79746, 30)\n",
            "Shape of X_test:  (34177, 30)\n"
          ]
        }
      ]
    },
    {
      "cell_type": "code",
      "source": [
        "from imblearn.over_sampling import RandomOverSampler\n",
        "ros = RandomOverSampler(random_state=2)\n",
        "X_train_ros, Y_train_ros = ros.fit_resample(X_train, Y_train)\n",
        "\n",
        "print(\"Shape of x_train_ros: \", X_train_ros.shape)\n",
        "print(\"Shape of x_test: \", X_test.shape)\n",
        "print()\n",
        "print(\"RandomOverSampler, counts of label '1', %: {:.1f}\".format(sum(Y_train_ros==1)/len(Y_train_ros)*100.0,2))\n",
        "print(\"RandomOverSampler, counts of label '0', %: {:.1f}\".format(sum(Y_train_ros==0)/len(Y_train_ros)*100.0,2))"
      ],
      "metadata": {
        "colab": {
          "base_uri": "https://localhost:8080/"
        },
        "id": "YZ7-AonHZE30",
        "outputId": "c1c148e1-6b70-4556-9049-2f5e01138e24"
      },
      "execution_count": null,
      "outputs": [
        {
          "output_type": "stream",
          "name": "stdout",
          "text": [
            "Shape of x_train_ros:  (159214, 30)\n",
            "Shape of x_test:  (34177, 30)\n",
            "\n",
            "RandomOverSampler, counts of label '1', %: 50.0\n",
            "RandomOverSampler, counts of label '0', %: 50.0\n"
          ]
        }
      ]
    },
    {
      "cell_type": "code",
      "source": [
        "X_train_ros = X_train_ros.sample(frac=.75)\n",
        "Y_train_ros = Y_train_ros.sample(frac=.75)"
      ],
      "metadata": {
        "id": "SCNr_pw4JIQM"
      },
      "execution_count": null,
      "outputs": []
    },
    {
      "cell_type": "markdown",
      "source": [
        "XGBoost"
      ],
      "metadata": {
        "id": "9GhoauLKgJ1z"
      }
    },
    {
      "cell_type": "code",
      "source": [
        "def RunModel(model, X_train, y_train, X_test, y_test):\n",
        "    model.fit(X_train, y_train.values.ravel())\n",
        "    pred = model.predict(X_test)\n",
        "    matrix = confusion_matrix(y_test, pred)\n",
        "    return matrix, pred"
      ],
      "metadata": {
        "id": "PZLaYEGSgzXv"
      },
      "execution_count": null,
      "outputs": []
    },
    {
      "cell_type": "code",
      "source": [
        "def PrintStats(cmat, y_test, pred):\n",
        "    tpos = cmat[0][0]\n",
        "    fneg = cmat[1][1]\n",
        "    fpos = cmat[0][1]\n",
        "    tneg = cmat[1][0]"
      ],
      "metadata": {
        "id": "rGEvvwPng72v"
      },
      "execution_count": null,
      "outputs": []
    },
    {
      "cell_type": "code",
      "source": [
        "xg = xgb.XGBClassifier() \n",
        "cmat, pred = RunModel(xg, X_train_ros, Y_train_ros, X_test, Y_test)\n",
        "PrintStats(cmat, Y_test, pred)"
      ],
      "metadata": {
        "id": "1Xhh-11Dgkak"
      },
      "execution_count": null,
      "outputs": []
    },
    {
      "cell_type": "code",
      "source": [
        "#print confusion matrix for XGBoost\n",
        "skplt.metrics.plot_confusion_matrix(Y_test, pred)"
      ],
      "metadata": {
        "colab": {
          "base_uri": "https://localhost:8080/",
          "height": 312
        },
        "id": "kEGy6wxlg_a7",
        "outputId": "35330855-5cd2-4253-cda6-79e155db15dd"
      },
      "execution_count": null,
      "outputs": [
        {
          "output_type": "execute_result",
          "data": {
            "text/plain": [
              "<matplotlib.axes._subplots.AxesSubplot at 0x7fced074baf0>"
            ]
          },
          "metadata": {},
          "execution_count": 18
        },
        {
          "output_type": "display_data",
          "data": {
            "text/plain": [
              "<Figure size 432x288 with 2 Axes>"
            ],
            "image/png": "[encoded data removed]"
          },
          "metadata": {
            "needs_background": "light"
          }
        }
      ]
    },
    {
      "cell_type": "code",
      "source": [
        "#print accuracy of XGBoost\n",
        "accuracy_score(Y_test, pred)"
      ],
      "metadata": {
        "colab": {
          "base_uri": "https://localhost:8080/"
        },
        "id": "SPEEfzVkh2Qt",
        "outputId": "0dae75c5-d248-4763-f38d-4fb4fda85c88"
      },
      "execution_count": null,
      "outputs": [
        {
          "output_type": "execute_result",
          "data": {
            "text/plain": [
              "0.49103198057172953"
            ]
          },
          "metadata": {},
          "execution_count": 19
        }
      ]
    },
    {
      "cell_type": "code",
      "source": [
        "#print classification report for XGBoost\n",
        "print (classification_report(Y_test, pred))"
      ],
      "metadata": {
        "colab": {
          "base_uri": "https://localhost:8080/"
        },
        "id": "vCUjynN-h558",
        "outputId": "33dc2397-6dd3-4b84-d0c2-4c0bc63f203e"
      },
      "execution_count": null,
      "outputs": [
        {
          "output_type": "stream",
          "name": "stdout",
          "text": [
            "              precision    recall  f1-score   support\n",
            "\n",
            "           0       1.00      0.49      0.66     34111\n",
            "           1       0.00      0.38      0.00        66\n",
            "\n",
            "    accuracy                           0.49     34177\n",
            "   macro avg       0.50      0.44      0.33     34177\n",
            "weighted avg       1.00      0.49      0.66     34177\n",
            "\n"
          ]
        }
      ]
    },
    {
      "cell_type": "code",
      "source": [
        "params={\n",
        " \"learning_rate\"    : [0.05, 0.1, 0.2, 0.3, 1 ] ,\n",
        " \"max_depth\"        : [10, 12, 15],\n",
        " \"min_child_weight\" : [ 1, 3 ],\n",
        " \"gamma\"            : [ 0.0, 0.15, 0.3]\n",
        "    \n",
        "}"
      ],
      "metadata": {
        "id": "FYikDu_VTA3w"
      },
      "execution_count": null,
      "outputs": []
    },
    {
      "cell_type": "code",
      "source": [
        "random_search= RandomizedSearchCV(estimator = xg_undersampled,param_distributions=params,n_iter=10,scoring='f1',n_jobs=-1,cv=5)"
      ],
      "metadata": {
        "id": "lbRkMy6_TEOL"
      },
      "execution_count": null,
      "outputs": []
    },
    {
      "cell_type": "code",
      "source": [
        "random_search.fit(X_train_ros,Y_train_ros.ravel())"
      ],
      "metadata": {
        "colab": {
          "base_uri": "https://localhost:8080/"
        },
        "id": "0GZmAW-nTcJJ",
        "outputId": "129d378a-f98a-4250-9579-dd280d621ddd"
      },
      "execution_count": null,
      "outputs": [
        {
          "output_type": "execute_result",
          "data": {
            "text/plain": [
              "RandomizedSearchCV(cv=5, estimator=XGBClassifier(), n_jobs=-1,\n",
              "                   param_distributions={'gamma': [0.0, 0.15, 0.3],\n",
              "                                        'learning_rate': [0.05, 0.1, 0.2, 0.3,\n",
              "                                                          1],\n",
              "                                        'max_depth': [10, 12, 15],\n",
              "                                        'min_child_weight': [1, 3]},\n",
              "                   scoring='f1')"
            ]
          },
          "metadata": {},
          "execution_count": 30
        }
      ]
    },
    {
      "cell_type": "code",
      "source": [
        "random_search.best_estimator_"
      ],
      "metadata": {
        "colab": {
          "base_uri": "https://localhost:8080/"
        },
        "id": "kkAFKnzXTnYP",
        "outputId": "f6fcd2fc-d57d-45ad-f752-b32e089d1c66"
      },
      "execution_count": null,
      "outputs": [
        {
          "output_type": "execute_result",
          "data": {
            "text/plain": [
              "XGBClassifier(gamma=0.15, learning_rate=0.3, max_depth=12)"
            ]
          },
          "metadata": {},
          "execution_count": 31
        }
      ]
    },
    {
      "cell_type": "code",
      "source": [
        "random_search.best_params_"
      ],
      "metadata": {
        "colab": {
          "base_uri": "https://localhost:8080/"
        },
        "id": "QaKJ4vvwTvFW",
        "outputId": "a3c61ba8-221a-4b23-ade8-c8db895e5ee2"
      },
      "execution_count": null,
      "outputs": [
        {
          "output_type": "execute_result",
          "data": {
            "text/plain": [
              "{'min_child_weight': 1, 'max_depth': 12, 'learning_rate': 0.3, 'gamma': 0.15}"
            ]
          },
          "metadata": {},
          "execution_count": 32
        }
      ]
    },
    {
      "cell_type": "code",
      "source": [
        "xg_tuned = xgb.XGBClassifier(gamma=0.15, learning_rate=1, max_depth=20, min_child_weight=3) \n",
        "cmat, pred_tuned = RunModel(xg_tuned, X_train_ros, Y_train_ros, X_test, Y_test)\n",
        "PrintStats(cmat, Y_test, pred_tuned)"
      ],
      "metadata": {
        "id": "wj5L08HpTz9a"
      },
      "execution_count": null,
      "outputs": []
    },
    {
      "cell_type": "code",
      "source": [
        "#print confusion matrix for XGBoost tuned\n",
        "skplt.metrics.plot_confusion_matrix(Y_test, pred)"
      ],
      "metadata": {
        "colab": {
          "base_uri": "https://localhost:8080/",
          "height": 312
        },
        "id": "xNZPnyfZUI4n",
        "outputId": "ebdf051f-811e-4cfb-80d4-9e554c5663fb"
      },
      "execution_count": null,
      "outputs": [
        {
          "output_type": "execute_result",
          "data": {
            "text/plain": [
              "<matplotlib.axes._subplots.AxesSubplot at 0x7fcecf607d30>"
            ]
          },
          "metadata": {},
          "execution_count": 27
        },
        {
          "output_type": "display_data",
          "data": {
            "text/plain": [
              "<Figure size 432x288 with 2 Axes>"
            ],
            "image/png": "[encoded data removed]"
          },
          "metadata": {
            "needs_background": "light"
          }
        }
      ]
    },
    {
      "cell_type": "code",
      "source": [
        "#print accuracy of XGBoost tuned\n",
        "accuracy_score(Y_test, pred_tuned)"
      ],
      "metadata": {
        "colab": {
          "base_uri": "https://localhost:8080/"
        },
        "id": "iMiR2sKZUMKr",
        "outputId": "22a12a52-7ebd-47d8-8253-7567b47fb001"
      },
      "execution_count": null,
      "outputs": [
        {
          "output_type": "execute_result",
          "data": {
            "text/plain": [
              "0.49685460982532115"
            ]
          },
          "metadata": {},
          "execution_count": 28
        }
      ]
    },
    {
      "cell_type": "code",
      "source": [
        "XGB_accuracy_score  = accuracy_score(Y_test,pred_tuned)\n",
        "XGB_precison_score  = precision_score(Y_test,pred_tuned)\n",
        "XGB_recall_score    = recall_score(Y_test,pred_tuned)\n",
        "XGB_f1_score        = f1_score(Y_test,pred_tuned)\n",
        "XGB_MCC             = matthews_corrcoef(Y_test,pred_tuned)"
      ],
      "metadata": {
        "id": "7dI0O1u_qG2e"
      },
      "execution_count": null,
      "outputs": []
    },
    {
      "cell_type": "code",
      "source": [
        "print(\"\")\n",
        "print(\"XGBoost\")\n",
        "print(\"Scores\")\n",
        "print(\"Accuracy -->\",XGB_accuracy_score)\n",
        "print(\"Precison -->\",XGB_precison_score)\n",
        "print(\"Recall -->\",XGB_recall_score)\n",
        "print(\"F1 -->\",XGB_f1_score)\n",
        "print(\"MCC -->\",XGB_MCC)\n",
        "print(classification_report(Y_test,pred_tuned))"
      ],
      "metadata": {
        "colab": {
          "base_uri": "https://localhost:8080/"
        },
        "id": "jOwdUgePUTku",
        "outputId": "a944d066-f5b2-4f07-ed5c-5b0c60614fe3"
      },
      "execution_count": null,
      "outputs": [
        {
          "output_type": "stream",
          "name": "stdout",
          "text": [
            "\n",
            "XGBoost\n",
            "Scores\n",
            "Accuracy --> 0.49685460982532115\n",
            "Precison --> 0.0015712290502793297\n",
            "Recall --> 0.4090909090909091\n",
            "F1 --> 0.003130434782608696\n",
            "MCC --> -0.008243596378424626\n",
            "              precision    recall  f1-score   support\n",
            "\n",
            "           0       1.00      0.50      0.66     34111\n",
            "           1       0.00      0.41      0.00        66\n",
            "\n",
            "    accuracy                           0.50     34177\n",
            "   macro avg       0.50      0.45      0.33     34177\n",
            "weighted avg       1.00      0.50      0.66     34177\n",
            "\n"
          ]
        }
      ]
    },
    {
      "cell_type": "markdown",
      "source": [
        "KNN"
      ],
      "metadata": {
        "id": "GGsn4K0bmDID"
      }
    },
    {
      "cell_type": "code",
      "source": [
        "#setup beofre creating knn classifier \n",
        "neighbours = np.arange(1,25)\n",
        "train_accuracy =np.empty(len(neighbours))\n",
        "test_accuracy = np.empty(len(neighbours))\n",
        "\n",
        "for i,k in enumerate(neighbours):\n",
        "    #Setup a knn classifier with k neighbors\n",
        "    knn=KNeighborsClassifier(n_neighbors=k,algorithm=\"kd_tree\",n_jobs=-1)\n",
        "    \n",
        "    #Fit the model\n",
        "    knn.fit(X_train_ros,Y_train_ros.ravel())\n",
        "    \n",
        "    #Compute accuracy on the training set\n",
        "    train_accuracy[i] = knn.score(X_train_ros, Y_train_ros.ravel())\n",
        "    \n",
        "    #Compute accuracy on the test set\n",
        "    test_accuracy[i] = knn.score(X_test, Y_test.ravel()) \n"
      ],
      "metadata": {
        "id": "xCf1xVEDmCyJ"
      },
      "execution_count": null,
      "outputs": []
    },
    {
      "cell_type": "code",
      "source": [
        "#Generate plot\n",
        "plt.title('k-NN Varying number of neighbors')\n",
        "plt.plot(neighbours, test_accuracy, label='Testing Accuracy')\n",
        "plt.plot(neighbours, train_accuracy, label='Training accuracy')\n",
        "plt.legend()\n",
        "plt.xlabel('Number of neighbors')\n",
        "plt.ylabel('Accuracy')\n",
        "plt.show()"
      ],
      "metadata": {
        "colab": {
          "base_uri": "https://localhost:8080/",
          "height": 513
        },
        "id": "QjQLlJ0pnM87",
        "outputId": "6fe9a771-fe91-4ce2-fd85-ca4472660721"
      },
      "execution_count": null,
      "outputs": [
        {
          "output_type": "display_data",
          "data": {
            "text/plain": [
              "<Figure size 1008x576 with 1 Axes>"
            ],
            "image/png": "[encoded data removed]"
          },
          "metadata": {
            "needs_background": "light"
          }
        }
      ]
    },
    {
      "cell_type": "code",
      "source": [
        "#identify best value for n_neighbours\n",
        "idx = np.where(test_accuracy == max(test_accuracy))\n",
        "x = neighbours[idx]"
      ],
      "metadata": {
        "id": "76O5l2t-nO2J"
      },
      "execution_count": null,
      "outputs": []
    },
    {
      "cell_type": "code",
      "source": [
        "#print best value for n_neighbours\n",
        "print(x[0])"
      ],
      "metadata": {
        "colab": {
          "base_uri": "https://localhost:8080/"
        },
        "id": "Szz8wGCYtuGR",
        "outputId": "39aa0c91-b5d7-46eb-f7b2-5dd1c1d8e0a6"
      },
      "execution_count": null,
      "outputs": [
        {
          "output_type": "stream",
          "name": "stdout",
          "text": [
            "2\n"
          ]
        }
      ]
    },
    {
      "cell_type": "code",
      "source": [
        "#k_nearest_neighbours_classification\n",
        "knn=KNeighborsClassifier(n_neighbors=x[0],algorithm=\"kd_tree\",n_jobs=-1)\n",
        "knn.fit(X_train_ros,Y_train_ros.ravel())"
      ],
      "metadata": {
        "colab": {
          "base_uri": "https://localhost:8080/"
        },
        "id": "wUopbq8dnR7B",
        "outputId": "9f6d45a6-0b5f-4daf-9cf4-208c6c7fcc0b"
      },
      "execution_count": null,
      "outputs": [
        {
          "output_type": "execute_result",
          "data": {
            "text/plain": [
              "KNeighborsClassifier(algorithm='kd_tree', n_jobs=-1, n_neighbors=2)"
            ]
          },
          "metadata": {},
          "execution_count": 87
        }
      ]
    },
    {
      "cell_type": "code",
      "source": [
        "#predicting labels for testing set\n",
        "knn_predicted_test_labels=knn.predict(X_test)"
      ],
      "metadata": {
        "id": "Gi6zTm7YnmXU"
      },
      "execution_count": null,
      "outputs": []
    },
    {
      "cell_type": "code",
      "source": [
        "from pylab import rcParams\n",
        "plt.figure(figsize=(12, 12))\n",
        "rcParams['figure.figsize'] = 14, 8\n",
        "plt.subplot(222)\n",
        "plt.scatter(X_test.iloc[:, 0], X_test.iloc[:, 1], c=knn_predicted_test_labels)\n",
        "plt.title(\" Number of Blobs\")"
      ],
      "metadata": {
        "colab": {
          "base_uri": "https://localhost:8080/",
          "height": 378
        },
        "id": "ZMF7s5rPs-dD",
        "outputId": "722a16be-5e81-4ec5-e234-673c1a304d4d"
      },
      "execution_count": null,
      "outputs": [
        {
          "output_type": "execute_result",
          "data": {
            "text/plain": [
              "Text(0.5, 1.0, ' Number of Blobs')"
            ]
          },
          "metadata": {},
          "execution_count": 89
        },
        {
          "output_type": "display_data",
          "data": {
            "text/plain": [
              "<Figure size 864x864 with 1 Axes>"
            ],
            "image/png": "[encoded data removed]"
          },
          "metadata": {
            "needs_background": "light"
          }
        }
      ]
    },
    {
      "cell_type": "code",
      "source": [
        "#scoring KNN\n",
        "knn_accuracy_score  = accuracy_score(Y_test,knn_predicted_test_labels)\n",
        "knn_precison_score  = precision_score(Y_test,knn_predicted_test_labels)\n",
        "knn_recall_score    = recall_score(Y_test,knn_predicted_test_labels)\n",
        "knn_f1_score        = f1_score(Y_test,knn_predicted_test_labels)\n",
        "knn_MCC             = matthews_corrcoef(Y_test,knn_predicted_test_labels)"
      ],
      "metadata": {
        "id": "g1-47zs1nbrS"
      },
      "execution_count": null,
      "outputs": []
    },
    {
      "cell_type": "code",
      "source": [
        "#print KNN score\n",
        "print(\"\")\n",
        "print(\"K-Nearest Neighbours\")\n",
        "print(\"Scores\")\n",
        "print(\"Accuracy -->\",knn_accuracy_score)\n",
        "print(\"Precison -->\",knn_precison_score)\n",
        "print(\"Recall -->\",knn_recall_score)\n",
        "print(\"F1 -->\",knn_f1_score)\n",
        "print(\"MCC -->\",knn_MCC)\n",
        "print(classification_report(Y_test,knn_predicted_test_labels))"
      ],
      "metadata": {
        "colab": {
          "base_uri": "https://localhost:8080/"
        },
        "id": "rBlS-Es1n4iF",
        "outputId": "337532ef-2364-4f34-d63f-6601f78944cb"
      },
      "execution_count": null,
      "outputs": [
        {
          "output_type": "stream",
          "name": "stdout",
          "text": [
            "\n",
            "K-Nearest Neighbours\n",
            "Scores\n",
            "Accuracy --> 0.7482517482517482\n",
            "Precison --> 0.0011652295502213937\n",
            "Recall --> 0.23809523809523808\n",
            "F1 --> 0.002319109461966605\n",
            "MCC --> -0.0010523033031453436\n",
            "              precision    recall  f1-score   support\n",
            "\n",
            "           0       1.00      0.75      0.86     34135\n",
            "           1       0.00      0.24      0.00        42\n",
            "\n",
            "    accuracy                           0.75     34177\n",
            "   macro avg       0.50      0.49      0.43     34177\n",
            "weighted avg       1.00      0.75      0.85     34177\n",
            "\n"
          ]
        }
      ]
    },
    {
      "cell_type": "markdown",
      "source": [
        "Random Forrest"
      ],
      "metadata": {
        "id": "5QVeE7lCpoCB"
      }
    },
    {
      "cell_type": "code",
      "source": [
        "#create random forrest classifier\n",
        "rf = RandomForestClassifier()"
      ],
      "metadata": {
        "id": "w3gp5k6QprKa"
      },
      "execution_count": null,
      "outputs": []
    },
    {
      "cell_type": "code",
      "source": [
        "#create parameters for testing\n",
        "rf_params = {'n_estimators': [100,200,500],\n",
        "            'max_features': [3,5,7],\n",
        "            'min_samples_split':[5,10,20]}"
      ],
      "metadata": {
        "id": "LSahEBeep3Uc"
      },
      "execution_count": null,
      "outputs": []
    },
    {
      "cell_type": "code",
      "source": [
        "#use grid search cv to find best parameters\n",
        "rf_cv_model = GridSearchCV(rf, rf_params, cv=5, n_jobs=-1, verbose=1).fit(X_train_ros, Y_train_ros)"
      ],
      "metadata": {
        "colab": {
          "base_uri": "https://localhost:8080/"
        },
        "id": "9OgU9p2Py40D",
        "outputId": "ca463562-e711-468b-98c7-7734e12603bb"
      },
      "execution_count": null,
      "outputs": [
        {
          "output_type": "stream",
          "name": "stdout",
          "text": [
            "Fitting 5 folds for each of 27 candidates, totalling 135 fits\n"
          ]
        },
        {
          "output_type": "stream",
          "name": "stderr",
          "text": [
            "/usr/local/lib/python3.8/dist-packages/joblib/externals/loky/process_executor.py:700: UserWarning: A worker stopped while some jobs were given to the executor. This can be caused by a too short worker timeout or by a memory leak.\n",
            "  warnings.warn(\n"
          ]
        }
      ]
    },
    {
      "cell_type": "code",
      "source": [
        "rf_cv_model"
      ],
      "metadata": {
        "id": "HFimo1eQznQi"
      },
      "execution_count": null,
      "outputs": []
    },
    {
      "cell_type": "code",
      "source": [
        "#find best parameters for best model\n",
        "best_params = rf_cv_model.best_params_\n",
        "print(best_params)"
      ],
      "metadata": {
        "colab": {
          "base_uri": "https://localhost:8080/"
        },
        "id": "ik212rLZzp1A",
        "outputId": "5368bfca-1fc2-445a-c72e-1e86ae50f77f"
      },
      "execution_count": null,
      "outputs": [
        {
          "output_type": "stream",
          "name": "stdout",
          "text": [
            "{'max_features': 3, 'min_samples_split': 20, 'n_estimators': 100}\n"
          ]
        }
      ]
    },
    {
      "cell_type": "code",
      "source": [
        "#fit the model\n",
        "rf = RandomForestClassifier(max_features=3, min_samples_split=20, n_estimators=100).fit(X_train_ros, Y_train_ros)"
      ],
      "metadata": {
        "id": "LOttmTPRzs1Y"
      },
      "execution_count": null,
      "outputs": []
    },
    {
      "cell_type": "code",
      "source": [
        "#create the predicitons from the model\n",
        "y_pred_rf = rf.predict(X_test)"
      ],
      "metadata": {
        "id": "N8QtxK-pz4gH"
      },
      "execution_count": null,
      "outputs": []
    },
    {
      "cell_type": "code",
      "source": [
        "#get the accuracy score for the model\n",
        "accuracy_score(Y_test, y_pred_rf)"
      ],
      "metadata": {
        "colab": {
          "base_uri": "https://localhost:8080/"
        },
        "id": "D1Lm4wQ3z6yj",
        "outputId": "927eead7-6dd3-44ab-a139-8858cdd88d9b"
      },
      "execution_count": null,
      "outputs": [
        {
          "output_type": "execute_result",
          "data": {
            "text/plain": [
              "0.5015068613394973"
            ]
          },
          "metadata": {},
          "execution_count": 33
        }
      ]
    },
    {
      "cell_type": "code",
      "source": [
        "#get cross validation score for the model\n",
        "cross_val_score(rf, X_test, Y_test, cv=21).mean()"
      ],
      "metadata": {
        "colab": {
          "base_uri": "https://localhost:8080/"
        },
        "id": "oW6lVgF10IFd",
        "outputId": "0ae8cc30-8aa0-404a-aeb6-68d92fee8aba"
      },
      "execution_count": null,
      "outputs": [
        {
          "output_type": "execute_result",
          "data": {
            "text/plain": [
              "0.9992392655269117"
            ]
          },
          "metadata": {},
          "execution_count": 34
        }
      ]
    },
    {
      "cell_type": "code",
      "source": [
        "rf_accuracy_score  = accuracy_score(Y_test,y_pred_rf)\n",
        "rf_precison_score  = precision_score(Y_test,y_pred_rf)\n",
        "rf_recall_score    = recall_score(Y_test,y_pred_rf)\n",
        "rf_f1_score        = f1_score(Y_test,y_pred_rf)\n",
        "rf_MCC             = matthews_corrcoef(Y_test,y_pred_rf)"
      ],
      "metadata": {
        "id": "pOkoqjJf0P_y"
      },
      "execution_count": null,
      "outputs": []
    },
    {
      "cell_type": "code",
      "source": [
        "print(\"\")\n",
        "print(\"Random Forest\")\n",
        "print(\"Scores\")\n",
        "print(\"Accuracy -->\",rf_accuracy_score)\n",
        "print(\"Precison -->\",rf_precison_score)\n",
        "print(\"Recall -->\",rf_recall_score)\n",
        "print(\"F1 -->\",rf_f1_score)\n",
        "print(\"MCC -->\",rf_MCC)\n",
        "print(classification_report(Y_test,y_pred_rf))"
      ],
      "metadata": {
        "colab": {
          "base_uri": "https://localhost:8080/"
        },
        "id": "k3Mmoxaotnku",
        "outputId": "9ccba02d-62a0-419b-df6d-1813fe886df4"
      },
      "execution_count": null,
      "outputs": [
        {
          "output_type": "stream",
          "name": "stdout",
          "text": [
            "\n",
            "Random Forest\n",
            "Scores\n",
            "Accuracy --> 0.5015068613394973\n",
            "Precison --> 0.0018784854710889346\n",
            "Recall --> 0.48484848484848486\n",
            "F1 --> 0.00374247120051459\n",
            "MCC --> -0.0011952335891587784\n",
            "              precision    recall  f1-score   support\n",
            "\n",
            "           0       1.00      0.50      0.67     34111\n",
            "           1       0.00      0.48      0.00        66\n",
            "\n",
            "    accuracy                           0.50     34177\n",
            "   macro avg       0.50      0.49      0.34     34177\n",
            "weighted avg       1.00      0.50      0.67     34177\n",
            "\n"
          ]
        }
      ]
    },
    {
      "cell_type": "code",
      "source": [
        "#plot a confusion matrix for the model\n",
        "cm = confusion_matrix(Y_test, y_pred_rf)\n",
        "sns.heatmap(cm, annot=True, fmt=\"d\", cbar=False)\n",
        "plt.title('RF Confusion Matrix')\n",
        "plt.savefig('rf_con_mat')\n",
        "plt.show()"
      ],
      "metadata": {
        "colab": {
          "base_uri": "https://localhost:8080/",
          "height": 281
        },
        "id": "PeVnm1Ie0WTb",
        "outputId": "cb6d5e8f-cf8a-4712-9668-0efd1e3e7db5"
      },
      "execution_count": null,
      "outputs": [
        {
          "output_type": "display_data",
          "data": {
            "text/plain": [
              "<Figure size 432x288 with 1 Axes>"
            ],
            "image/png": "[encoded data removed]"
          },
          "metadata": {
            "needs_background": "light"
          }
        }
      ]
    },
    {
      "cell_type": "markdown",
      "source": [
        "Decision Tree"
      ],
      "metadata": {
        "id": "1chVwhrEq_FF"
      }
    },
    {
      "cell_type": "code",
      "source": [
        "#Decision Tree Classifier with no parameters\n",
        "from sklearn.tree import DecisionTreeClassifier\n",
        "classifier=DecisionTreeClassifier()\n",
        "classifier.fit(X_train_ros, Y_train_ros)\n",
        "predicted=classifier.predict(X_test)\n",
        "print(\"\\n Predicted value:\\n\",predicted)"
      ],
      "metadata": {
        "colab": {
          "base_uri": "https://localhost:8080/"
        },
        "id": "bsd-OsIYrA0E",
        "outputId": "83114070-68a4-4203-a163-fa7f4e5105b3"
      },
      "execution_count": null,
      "outputs": [
        {
          "output_type": "stream",
          "name": "stdout",
          "text": [
            "\n",
            " Predicted value:\n",
            " [1 1 1 ... 0 1 1]\n"
          ]
        }
      ]
    },
    {
      "cell_type": "code",
      "source": [
        "#accuracy score no tuning\n",
        "from sklearn import metrics\n",
        "DecisionTree= metrics.accuracy_score(Y_test, predicted) * 100\n",
        "print(\"\\n The Accuracy Score Using Algorithm Decision Tree Classifier: \", DecisionTree)"
      ],
      "metadata": {
        "colab": {
          "base_uri": "https://localhost:8080/"
        },
        "id": "S2nBJ3_LrRsJ",
        "outputId": "b7edb50b-f22f-46a2-f3bc-fadb9100d3c5"
      },
      "execution_count": null,
      "outputs": [
        {
          "output_type": "stream",
          "name": "stdout",
          "text": [
            "\n",
            " The Accuracy Score Using Algorithm Decision Tree Classifier:  49.5099043216198\n"
          ]
        }
      ]
    },
    {
      "cell_type": "code",
      "source": [
        "#Precision no tuning\n",
        "print('Precision')\n",
        "# use TP/(TP+FP) where (TP=True Positif, TN=True Negative,FP = False Positive, FN = False Negative)\n",
        "precision=precision_score(Y_test, predicted, pos_label=1)*100\n",
        "print('\\n Score Precision :\\n',precision )"
      ],
      "metadata": {
        "colab": {
          "base_uri": "https://localhost:8080/"
        },
        "id": "sAn2PbQMrWk2",
        "outputId": "723041f2-861d-4add-b483-bc4cf8b4ff09"
      },
      "execution_count": null,
      "outputs": [
        {
          "output_type": "stream",
          "name": "stdout",
          "text": [
            "Precision\n",
            "\n",
            " Score Precision :\n",
            " 0.19123783031988875\n"
          ]
        }
      ]
    },
    {
      "cell_type": "code",
      "source": [
        "#Recall no tuning\n",
        "# Recall = TP / (TP + FN)\n",
        "print(\"Recall\")\n",
        "recall=recall_score(Y_test, predicted, pos_label=1)*100\n",
        "print(\"\\n Recall Score :\\n\", recall)"
      ],
      "metadata": {
        "colab": {
          "base_uri": "https://localhost:8080/"
        },
        "id": "URsCXQYpreQq",
        "outputId": "42d9d9e3-f842-4958-cb7a-f7286eb33f4b"
      },
      "execution_count": null,
      "outputs": [
        {
          "output_type": "stream",
          "name": "stdout",
          "text": [
            "Recall\n",
            "\n",
            " Recall Score :\n",
            " 50.0\n"
          ]
        }
      ]
    },
    {
      "cell_type": "code",
      "source": [
        "#F1-Score no tuning\n",
        "print('F1-Score')\n",
        "fscore=f1_score(Y_test, predicted, pos_label=1)*100\n",
        "print(\"\\n F1 Score :\\n\", fscore)"
      ],
      "metadata": {
        "colab": {
          "base_uri": "https://localhost:8080/"
        },
        "id": "xJA7q67xriIy",
        "outputId": "bdf6cb25-c05c-4b34-f50c-1ad9b18d05de"
      },
      "execution_count": null,
      "outputs": [
        {
          "output_type": "stream",
          "name": "stdout",
          "text": [
            "F1-Score\n",
            "\n",
            " F1 Score :\n",
            " 0.38101835815725665\n"
          ]
        }
      ]
    },
    {
      "cell_type": "code",
      "source": [
        "#parameter dictionary\n",
        "param_dict = {\n",
        "    'criterion':['gini', 'entropy'],\n",
        "    'max_depth':range(1,25),\n",
        "    'min_samples_split':range(1,25),\n",
        "    'min_samples_leaf':range(1,25)\n",
        "}"
      ],
      "metadata": {
        "id": "bo5ZZOVc7l7F"
      },
      "execution_count": null,
      "outputs": []
    },
    {
      "cell_type": "code",
      "source": [
        "#complete gridsearch cv\n",
        "grid = GridSearchCV(classifier,\n",
        "                    param_grid=param_dict,\n",
        "                    cv=5,\n",
        "                    verbose=1,\n",
        "                    n_jobs=-1)\n",
        "grid.fit(X_train_ros, Y_train_ros)"
      ],
      "metadata": {
        "id": "d_nuAmdq8CAS"
      },
      "execution_count": null,
      "outputs": []
    },
    {
      "cell_type": "code",
      "source": [
        "#get best parameters\n",
        "grid.best_params_"
      ],
      "metadata": {
        "id": "kTzNKKjUIry_"
      },
      "execution_count": null,
      "outputs": []
    },
    {
      "cell_type": "code",
      "source": [
        "best_classifier = DecisionTreeClassifier(max_depth=3, min_samples_leaf=17, min_samples_split=5)"
      ],
      "metadata": {
        "id": "3an8g8p-I0Pu"
      },
      "execution_count": null,
      "outputs": []
    },
    {
      "cell_type": "code",
      "source": [
        "best_classifier.fit(X_train_ros, Y_train_ros)\n",
        "predicted= best_classifier.predict(X_test)\n",
        "print(\"\\n Predicted value:\\n\",predicted)"
      ],
      "metadata": {
        "colab": {
          "base_uri": "https://localhost:8080/"
        },
        "id": "f9RcW3HSJCmr",
        "outputId": "931609fa-8a42-483b-8369-30a857419057"
      },
      "execution_count": null,
      "outputs": [
        {
          "output_type": "stream",
          "name": "stdout",
          "text": [
            "\n",
            " Predicted value:\n",
            " [1 0 1 ... 1 0 1]\n"
          ]
        }
      ]
    },
    {
      "cell_type": "code",
      "source": [
        "from sklearn import metrics\n",
        "DecisionTree= metrics.accuracy_score(Y_test, predicted) * 100\n",
        "print(\"\\n The Accuracy Score Using Algorithm Decision Tree Classifier: \", DecisionTree)"
      ],
      "metadata": {
        "colab": {
          "base_uri": "https://localhost:8080/"
        },
        "id": "dOu5NMaQJPZl",
        "outputId": "73564a78-b749-4e45-8075-cada063e7370"
      },
      "execution_count": null,
      "outputs": [
        {
          "output_type": "stream",
          "name": "stdout",
          "text": [
            "\n",
            " The Accuracy Score Using Algorithm Decision Tree Classifier:  55.05456886210024\n"
          ]
        }
      ]
    },
    {
      "cell_type": "code",
      "source": [
        "dc_accuracy_score  = accuracy_score(Y_test,predicted)\n",
        "dc_precison_score  = precision_score(Y_test,predicted)\n",
        "dc_recall_score    = recall_score(Y_test,predicted)\n",
        "dc_f1_score        = f1_score(Y_test,predicted)\n",
        "dc_MCC             = matthews_corrcoef(Y_test,predicted)"
      ],
      "metadata": {
        "id": "muxMk7hzwBW7"
      },
      "execution_count": null,
      "outputs": []
    },
    {
      "cell_type": "code",
      "source": [
        "print(\"\")\n",
        "print(\"Decsion Tree\")\n",
        "print(\"Scores\")\n",
        "print(\"Accuracy -->\",dc_accuracy_score)\n",
        "print(\"Precison -->\",dc_precison_score)\n",
        "print(\"Recall -->\",dc_recall_score)\n",
        "print(\"F1 -->\",dc_f1_score)\n",
        "print(\"MCC -->\",dc_MCC)\n",
        "print(classification_report(Y_test,predicted))"
      ],
      "metadata": {
        "colab": {
          "base_uri": "https://localhost:8080/"
        },
        "id": "F6EgfSKawJW9",
        "outputId": "271e0817-47a8-4472-e002-6ee3365cc4f3"
      },
      "execution_count": null,
      "outputs": [
        {
          "output_type": "stream",
          "name": "stdout",
          "text": [
            "\n",
            "Decsion Tree\n",
            "Scores\n",
            "Accuracy --> 0.5505456886210024\n",
            "Precison --> 0.0008485085829906664\n",
            "Recall --> 0.19696969696969696\n",
            "F1 --> 0.0016897380905959577\n",
            "MCC --> -0.022228360472292607\n",
            "              precision    recall  f1-score   support\n",
            "\n",
            "           0       1.00      0.55      0.71     34111\n",
            "           1       0.00      0.20      0.00        66\n",
            "\n",
            "    accuracy                           0.55     34177\n",
            "   macro avg       0.50      0.37      0.36     34177\n",
            "weighted avg       1.00      0.55      0.71     34177\n",
            "\n"
          ]
        }
      ]
    }
  ],
  "metadata": {
    "colab": {
      "provenance": [],
      "authorship_tag": "ABX9TyMThA9onrqbL2jtqxZcWthB",
      "include_colab_link": true
    },
    "kernelspec": {
      "display_name": "Python 3",
      "name": "python3"
    },
    "language_info": {
      "name": "python"
    }
  },
  "nbformat": 4,
  "nbformat_minor": 0
}