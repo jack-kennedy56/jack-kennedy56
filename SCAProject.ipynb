{
  "nbformat": 4,
  "nbformat_minor": 0,
  "metadata": {
    "colab": {
      "provenance": [],
      "authorship_tag": "ABX9TyONwX3o47cwOnYNEC2U8IZN",
      "include_colab_link": true
    },
    "kernelspec": {
      "name": "python3",
      "display_name": "Python 3"
    },
    "language_info": {
      "name": "python"
    }
  },
  "cells": [
    {
      "cell_type": "markdown",
      "metadata": {
        "id": "view-in-github",
        "colab_type": "text"
      },
      "source": [
        "<a href=\"https://colab.research.google.com/github/jack-kennedy56/jack-kennedy56/blob/main/SCAProject.ipynb\" target=\"_parent\"><img src=\"https://colab.research.google.com/assets/colab-badge.svg\" alt=\"Open In Colab\"/></a>"
      ]
    },
    {
      "cell_type": "code",
      "source": [
        "!pip install scikit-plot"
      ],
      "metadata": {
        "colab": {
          "base_uri": "https://localhost:8080/"
        },
        "id": "2wkGY6IZj5uN",
        "outputId": "3dd6fba2-e9f2-42ac-98e2-1dd1085b1dee"
      },
      "execution_count": 299,
      "outputs": [
        {
          "output_type": "stream",
          "name": "stdout",
          "text": [
            "Looking in indexes: https://pypi.org/simple, https://us-python.pkg.dev/colab-wheels/public/simple/\n",
            "Requirement already satisfied: scikit-plot in /usr/local/lib/python3.8/dist-packages (0.3.7)\n",
            "Requirement already satisfied: joblib>=0.10 in /usr/local/lib/python3.8/dist-packages (from scikit-plot) (1.2.0)\n",
            "Requirement already satisfied: matplotlib>=1.4.0 in /usr/local/lib/python3.8/dist-packages (from scikit-plot) (3.2.2)\n",
            "Requirement already satisfied: scikit-learn>=0.18 in /usr/local/lib/python3.8/dist-packages (from scikit-plot) (1.0.2)\n",
            "Requirement already satisfied: scipy>=0.9 in /usr/local/lib/python3.8/dist-packages (from scikit-plot) (1.7.3)\n",
            "Requirement already satisfied: kiwisolver>=1.0.1 in /usr/local/lib/python3.8/dist-packages (from matplotlib>=1.4.0->scikit-plot) (1.4.4)\n",
            "Requirement already satisfied: cycler>=0.10 in /usr/local/lib/python3.8/dist-packages (from matplotlib>=1.4.0->scikit-plot) (0.11.0)\n",
            "Requirement already satisfied: python-dateutil>=2.1 in /usr/local/lib/python3.8/dist-packages (from matplotlib>=1.4.0->scikit-plot) (2.8.2)\n",
            "Requirement already satisfied: pyparsing!=2.0.4,!=2.1.2,!=2.1.6,>=2.0.1 in /usr/local/lib/python3.8/dist-packages (from matplotlib>=1.4.0->scikit-plot) (3.0.9)\n",
            "Requirement already satisfied: numpy>=1.11 in /usr/local/lib/python3.8/dist-packages (from matplotlib>=1.4.0->scikit-plot) (1.21.6)\n",
            "Requirement already satisfied: six>=1.5 in /usr/local/lib/python3.8/dist-packages (from python-dateutil>=2.1->matplotlib>=1.4.0->scikit-plot) (1.15.0)\n",
            "Requirement already satisfied: threadpoolctl>=2.0.0 in /usr/local/lib/python3.8/dist-packages (from scikit-learn>=0.18->scikit-plot) (3.1.0)\n"
          ]
        }
      ]
    },
    {
      "cell_type": "code",
      "source": [
        "import pandas as pd\n",
        "import numpy as np\n",
        "import matplotlib.pyplot as plt\n",
        "import random\n",
        "import datetime\n",
        "from sklearn.neighbors import KNeighborsClassifier\n",
        "from sklearn.metrics import mean_squared_error, classification_report\n",
        "from sklearn.metrics import confusion_matrix,accuracy_score,precision_score,recall_score,f1_score,matthews_corrcoef,classification_report\n",
        "from sklearn.preprocessing import StandardScaler\n",
        "import xgboost as xgb\n",
        "import scikitplot as skplt\n",
        "from sklearn.model_selection import RandomizedSearchCV\n",
        "from xgboost import XGBClassifier\n",
        "from sklearn.ensemble import RandomForestClassifier\n",
        "from sklearn.model_selection import GridSearchCV, cross_val_score\n",
        "import seaborn as sns"
      ],
      "metadata": {
        "id": "o03fw5KfMQnV"
      },
      "execution_count": 300,
      "outputs": []
    },
    {
      "cell_type": "code",
      "source": [
        "# create a list of dictionaries to hold the data\n",
        "data = []\n",
        "\n",
        "# generate random data and append it to the list\n",
        "for i in range(450):\n",
        "  date = datetime.datetime(2020, random.randint(1, 12), random.randint(1, 28))\n",
        "  time = datetime.time(random.randint(0, 23), random.randint(0, 59), random.randint(0, 59))\n",
        "  weather_status = random.randint(0, 1)\n",
        "  urban_location = random.randint(0, 1)\n",
        "  distance_miles = round(random.uniform(0, 100), 3)\n",
        "  product_type = random.choice(['Food', 'Clothing', 'Household', 'Other'])\n",
        "  late = random.randint(0, 1)\n",
        "  \n",
        "  data.append({\n",
        "      'Order_date': date,\n",
        "      'Time_ordered': time,\n",
        "      'Weather_status': weather_status,\n",
        "      'Urban_location': urban_location,\n",
        "      'Distance_miles': distance_miles,\n",
        "      'Product_type': product_type,\n",
        "      'Late': late\n",
        "  })\n",
        "\n",
        "# create the data frame from the list of dictionaries\n",
        "df = pd.DataFrame(data, columns=['Order_date', 'Time_ordered', 'Weather_status', 'Urban_location', 'Distance_miles', 'Product_type', 'Late'])\n",
        "\n",
        "# print the data frame\n",
        "print(df)"
      ],
      "metadata": {
        "colab": {
          "base_uri": "https://localhost:8080/"
        },
        "id": "CDCc_uPXIAbX",
        "outputId": "3afad3b4-ab47-444f-ef17-5e3762971ded"
      },
      "execution_count": 301,
      "outputs": [
        {
          "output_type": "stream",
          "name": "stdout",
          "text": [
            "    Order_date Time_ordered  Weather_status  Urban_location  Distance_miles  \\\n",
            "0   2020-12-26     04:14:49               0               0          35.812   \n",
            "1   2020-07-19     02:43:15               0               0          91.183   \n",
            "2   2020-11-20     22:59:21               1               1          84.446   \n",
            "3   2020-07-06     23:27:59               0               1          34.512   \n",
            "4   2020-10-27     03:25:55               1               1          81.699   \n",
            "..         ...          ...             ...             ...             ...   \n",
            "445 2020-02-11     04:00:50               1               1          92.546   \n",
            "446 2020-05-22     12:24:30               1               0          58.258   \n",
            "447 2020-09-19     05:43:49               1               1          34.917   \n",
            "448 2020-03-02     18:32:18               1               0          29.882   \n",
            "449 2020-07-27     23:29:44               0               0          72.389   \n",
            "\n",
            "    Product_type  Late  \n",
            "0           Food     0  \n",
            "1      Household     0  \n",
            "2       Clothing     0  \n",
            "3      Household     0  \n",
            "4      Household     0  \n",
            "..           ...   ...  \n",
            "445        Other     1  \n",
            "446    Household     0  \n",
            "447     Clothing     0  \n",
            "448         Food     0  \n",
            "449        Other     1  \n",
            "\n",
            "[450 rows x 7 columns]\n"
          ]
        }
      ]
    },
    {
      "cell_type": "code",
      "source": [
        "df.head()"
      ],
      "metadata": {
        "colab": {
          "base_uri": "https://localhost:8080/",
          "height": 206
        },
        "id": "o3-yFsxkKzY7",
        "outputId": "62e0314d-14b0-4c43-97c9-21fbf502c2a5"
      },
      "execution_count": 303,
      "outputs": [
        {
          "output_type": "execute_result",
          "data": {
            "text/plain": [
              "  Order_date Time_ordered  Weather_status  Urban_location  Distance_miles  \\\n",
              "0 2020-12-26     04:14:49               0               0          35.812   \n",
              "1 2020-07-19     02:43:15               0               0          91.183   \n",
              "2 2020-11-20     22:59:21               1               1          84.446   \n",
              "3 2020-07-06     23:27:59               0               1          34.512   \n",
              "4 2020-10-27     03:25:55               1               1          81.699   \n",
              "\n",
              "  Product_type  Late  \n",
              "0         Food     0  \n",
              "1    Household     0  \n",
              "2     Clothing     0  \n",
              "3    Household     0  \n",
              "4    Household     0  "
            ],
            "text/html": [
              "\n",
              "  <div id=\"df-f80ae4f1-c75f-4ddf-83fc-6bc8b612e3fd\">\n",
              "    <div class=\"colab-df-container\">\n",
              "      <div>\n",
              "<style scoped>\n",
              "    .dataframe tbody tr th:only-of-type {\n",
              "        vertical-align: middle;\n",
              "    }\n",
              "\n",
              "    .dataframe tbody tr th {\n",
              "        vertical-align: top;\n",
              "    }\n",
              "\n",
              "    .dataframe thead th {\n",
              "        text-align: right;\n",
              "    }\n",
              "</style>\n",
              "<table border=\"1\" class=\"dataframe\">\n",
              "  <thead>\n",
              "    <tr style=\"text-align: right;\">\n",
              "      <th></th>\n",
              "      <th>Order_date</th>\n",
              "      <th>Time_ordered</th>\n",
              "      <th>Weather_status</th>\n",
              "      <th>Urban_location</th>\n",
              "      <th>Distance_miles</th>\n",
              "      <th>Product_type</th>\n",
              "      <th>Late</th>\n",
              "    </tr>\n",
              "  </thead>\n",
              "  <tbody>\n",
              "    <tr>\n",
              "      <th>0</th>\n",
              "      <td>2020-12-26</td>\n",
              "      <td>04:14:49</td>\n",
              "      <td>0</td>\n",
              "      <td>0</td>\n",
              "      <td>35.812</td>\n",
              "      <td>Food</td>\n",
              "      <td>0</td>\n",
              "    </tr>\n",
              "    <tr>\n",
              "      <th>1</th>\n",
              "      <td>2020-07-19</td>\n",
              "      <td>02:43:15</td>\n",
              "      <td>0</td>\n",
              "      <td>0</td>\n",
              "      <td>91.183</td>\n",
              "      <td>Household</td>\n",
              "      <td>0</td>\n",
              "    </tr>\n",
              "    <tr>\n",
              "      <th>2</th>\n",
              "      <td>2020-11-20</td>\n",
              "      <td>22:59:21</td>\n",
              "      <td>1</td>\n",
              "      <td>1</td>\n",
              "      <td>84.446</td>\n",
              "      <td>Clothing</td>\n",
              "      <td>0</td>\n",
              "    </tr>\n",
              "    <tr>\n",
              "      <th>3</th>\n",
              "      <td>2020-07-06</td>\n",
              "      <td>23:27:59</td>\n",
              "      <td>0</td>\n",
              "      <td>1</td>\n",
              "      <td>34.512</td>\n",
              "      <td>Household</td>\n",
              "      <td>0</td>\n",
              "    </tr>\n",
              "    <tr>\n",
              "      <th>4</th>\n",
              "      <td>2020-10-27</td>\n",
              "      <td>03:25:55</td>\n",
              "      <td>1</td>\n",
              "      <td>1</td>\n",
              "      <td>81.699</td>\n",
              "      <td>Household</td>\n",
              "      <td>0</td>\n",
              "    </tr>\n",
              "  </tbody>\n",
              "</table>\n",
              "</div>\n",
              "      <button class=\"colab-df-convert\" onclick=\"convertToInteractive('df-f80ae4f1-c75f-4ddf-83fc-6bc8b612e3fd')\"\n",
              "              title=\"Convert this dataframe to an interactive table.\"\n",
              "              style=\"display:none;\">\n",
              "        \n",
              "  <svg xmlns=\"http://www.w3.org/2000/svg\" height=\"24px\"viewBox=\"0 0 24 24\"\n",
              "       width=\"24px\">\n",
              "    <path d=\"M0 0h24v24H0V0z\" fill=\"none\"/>\n",
              "    <path d=\"M18.56 5.44l.94 2.06.94-2.06 2.06-.94-2.06-.94-.94-2.06-.94 2.06-2.06.94zm-11 1L8.5 8.5l.94-2.06 2.06-.94-2.06-.94L8.5 2.5l-.94 2.06-2.06.94zm10 10l.94 2.06.94-2.06 2.06-.94-2.06-.94-.94-2.06-.94 2.06-2.06.94z\"/><path d=\"M17.41 7.96l-1.37-1.37c-.4-.4-.92-.59-1.43-.59-.52 0-1.04.2-1.43.59L10.3 9.45l-7.72 7.72c-.78.78-.78 2.05 0 2.83L4 21.41c.39.39.9.59 1.41.59.51 0 1.02-.2 1.41-.59l7.78-7.78 2.81-2.81c.8-.78.8-2.07 0-2.86zM5.41 20L4 18.59l7.72-7.72 1.47 1.35L5.41 20z\"/>\n",
              "  </svg>\n",
              "      </button>\n",
              "      \n",
              "  <style>\n",
              "    .colab-df-container {\n",
              "      display:flex;\n",
              "      flex-wrap:wrap;\n",
              "      gap: 12px;\n",
              "    }\n",
              "\n",
              "    .colab-df-convert {\n",
              "      background-color: #E8F0FE;\n",
              "      border: none;\n",
              "      border-radius: 50%;\n",
              "      cursor: pointer;\n",
              "      display: none;\n",
              "      fill: #1967D2;\n",
              "      height: 32px;\n",
              "      padding: 0 0 0 0;\n",
              "      width: 32px;\n",
              "    }\n",
              "\n",
              "    .colab-df-convert:hover {\n",
              "      background-color: #E2EBFA;\n",
              "      box-shadow: 0px 1px 2px rgba(60, 64, 67, 0.3), 0px 1px 3px 1px rgba(60, 64, 67, 0.15);\n",
              "      fill: #174EA6;\n",
              "    }\n",
              "\n",
              "    [theme=dark] .colab-df-convert {\n",
              "      background-color: #3B4455;\n",
              "      fill: #D2E3FC;\n",
              "    }\n",
              "\n",
              "    [theme=dark] .colab-df-convert:hover {\n",
              "      background-color: #434B5C;\n",
              "      box-shadow: 0px 1px 3px 1px rgba(0, 0, 0, 0.15);\n",
              "      filter: drop-shadow(0px 1px 2px rgba(0, 0, 0, 0.3));\n",
              "      fill: #FFFFFF;\n",
              "    }\n",
              "  </style>\n",
              "\n",
              "      <script>\n",
              "        const buttonEl =\n",
              "          document.querySelector('#df-f80ae4f1-c75f-4ddf-83fc-6bc8b612e3fd button.colab-df-convert');\n",
              "        buttonEl.style.display =\n",
              "          google.colab.kernel.accessAllowed ? 'block' : 'none';\n",
              "\n",
              "        async function convertToInteractive(key) {\n",
              "          const element = document.querySelector('#df-f80ae4f1-c75f-4ddf-83fc-6bc8b612e3fd');\n",
              "          const dataTable =\n",
              "            await google.colab.kernel.invokeFunction('convertToInteractive',\n",
              "                                                     [key], {});\n",
              "          if (!dataTable) return;\n",
              "\n",
              "          const docLinkHtml = 'Like what you see? Visit the ' +\n",
              "            '<a target=\"_blank\" href=https://colab.research.google.com/notebooks/data_table.ipynb>data table notebook</a>'\n",
              "            + ' to learn more about interactive tables.';\n",
              "          element.innerHTML = '';\n",
              "          dataTable['output_type'] = 'display_data';\n",
              "          await google.colab.output.renderOutput(dataTable, element);\n",
              "          const docLink = document.createElement('div');\n",
              "          docLink.innerHTML = docLinkHtml;\n",
              "          element.appendChild(docLink);\n",
              "        }\n",
              "      </script>\n",
              "    </div>\n",
              "  </div>\n",
              "  "
            ]
          },
          "metadata": {},
          "execution_count": 303
        }
      ]
    },
    {
      "cell_type": "code",
      "source": [
        "#print what percentage of imbalance in fraud\n",
        "print('On Time', round(df['Late'].value_counts()[0]/len(df) * 100,2), '% of the dataset')\n",
        "print('Late', round(df['Late'].value_counts()[1]/len(df) * 100,2), '% of the dataset')"
      ],
      "metadata": {
        "colab": {
          "base_uri": "https://localhost:8080/"
        },
        "id": "XXzVmxfnLSQH",
        "outputId": "da013d41-4ce4-4b3e-b7e6-9e978245cd58"
      },
      "execution_count": 302,
      "outputs": [
        {
          "output_type": "stream",
          "name": "stdout",
          "text": [
            "On Time 51.56 % of the dataset\n",
            "Late 48.44 % of the dataset\n"
          ]
        }
      ]
    },
    {
      "cell_type": "code",
      "source": [
        "df['Product_type'] = df[\"Product_type\"].replace('Food','1')\n",
        "df['Product_type'] = df[\"Product_type\"].replace('Clothing','2')\n",
        "df['Product_type'] = df[\"Product_type\"].replace('Household','3')\n",
        "df['Product_type'] = df[\"Product_type\"].replace('Other','4')"
      ],
      "metadata": {
        "id": "oTrpWGQYO5y2"
      },
      "execution_count": 304,
      "outputs": []
    },
    {
      "cell_type": "code",
      "source": [
        "# convert the Order_date column to a numerical value\n",
        "df['Order_date_numeric'] = df['Order_date'].apply(lambda x: datetime.datetime.timestamp(x))\n",
        "\n",
        "# drop the Order_date column\n",
        "df = df.drop(columns=['Order_date'])"
      ],
      "metadata": {
        "id": "qUfhk-s1RFXl"
      },
      "execution_count": 305,
      "outputs": []
    },
    {
      "cell_type": "code",
      "source": [
        "df.head()"
      ],
      "metadata": {
        "colab": {
          "base_uri": "https://localhost:8080/",
          "height": 206
        },
        "id": "3M7GJTe_bgw7",
        "outputId": "3baa21d6-cc5b-45ab-8f11-624bc8150f63"
      },
      "execution_count": 306,
      "outputs": [
        {
          "output_type": "execute_result",
          "data": {
            "text/plain": [
              "  Time_ordered  Weather_status  Urban_location  Distance_miles Product_type  \\\n",
              "0     04:14:49               0               0          35.812            1   \n",
              "1     02:43:15               0               0          91.183            3   \n",
              "2     22:59:21               1               1          84.446            2   \n",
              "3     23:27:59               0               1          34.512            3   \n",
              "4     03:25:55               1               1          81.699            3   \n",
              "\n",
              "   Late  Order_date_numeric  \n",
              "0     0        1.608941e+09  \n",
              "1     0        1.595117e+09  \n",
              "2     0        1.605830e+09  \n",
              "3     0        1.593994e+09  \n",
              "4     0        1.603757e+09  "
            ],
            "text/html": [
              "\n",
              "  <div id=\"df-d89b45f3-a070-4cdf-ae2f-2d1a105ce0a5\">\n",
              "    <div class=\"colab-df-container\">\n",
              "      <div>\n",
              "<style scoped>\n",
              "    .dataframe tbody tr th:only-of-type {\n",
              "        vertical-align: middle;\n",
              "    }\n",
              "\n",
              "    .dataframe tbody tr th {\n",
              "        vertical-align: top;\n",
              "    }\n",
              "\n",
              "    .dataframe thead th {\n",
              "        text-align: right;\n",
              "    }\n",
              "</style>\n",
              "<table border=\"1\" class=\"dataframe\">\n",
              "  <thead>\n",
              "    <tr style=\"text-align: right;\">\n",
              "      <th></th>\n",
              "      <th>Time_ordered</th>\n",
              "      <th>Weather_status</th>\n",
              "      <th>Urban_location</th>\n",
              "      <th>Distance_miles</th>\n",
              "      <th>Product_type</th>\n",
              "      <th>Late</th>\n",
              "      <th>Order_date_numeric</th>\n",
              "    </tr>\n",
              "  </thead>\n",
              "  <tbody>\n",
              "    <tr>\n",
              "      <th>0</th>\n",
              "      <td>04:14:49</td>\n",
              "      <td>0</td>\n",
              "      <td>0</td>\n",
              "      <td>35.812</td>\n",
              "      <td>1</td>\n",
              "      <td>0</td>\n",
              "      <td>1.608941e+09</td>\n",
              "    </tr>\n",
              "    <tr>\n",
              "      <th>1</th>\n",
              "      <td>02:43:15</td>\n",
              "      <td>0</td>\n",
              "      <td>0</td>\n",
              "      <td>91.183</td>\n",
              "      <td>3</td>\n",
              "      <td>0</td>\n",
              "      <td>1.595117e+09</td>\n",
              "    </tr>\n",
              "    <tr>\n",
              "      <th>2</th>\n",
              "      <td>22:59:21</td>\n",
              "      <td>1</td>\n",
              "      <td>1</td>\n",
              "      <td>84.446</td>\n",
              "      <td>2</td>\n",
              "      <td>0</td>\n",
              "      <td>1.605830e+09</td>\n",
              "    </tr>\n",
              "    <tr>\n",
              "      <th>3</th>\n",
              "      <td>23:27:59</td>\n",
              "      <td>0</td>\n",
              "      <td>1</td>\n",
              "      <td>34.512</td>\n",
              "      <td>3</td>\n",
              "      <td>0</td>\n",
              "      <td>1.593994e+09</td>\n",
              "    </tr>\n",
              "    <tr>\n",
              "      <th>4</th>\n",
              "      <td>03:25:55</td>\n",
              "      <td>1</td>\n",
              "      <td>1</td>\n",
              "      <td>81.699</td>\n",
              "      <td>3</td>\n",
              "      <td>0</td>\n",
              "      <td>1.603757e+09</td>\n",
              "    </tr>\n",
              "  </tbody>\n",
              "</table>\n",
              "</div>\n",
              "      <button class=\"colab-df-convert\" onclick=\"convertToInteractive('df-d89b45f3-a070-4cdf-ae2f-2d1a105ce0a5')\"\n",
              "              title=\"Convert this dataframe to an interactive table.\"\n",
              "              style=\"display:none;\">\n",
              "        \n",
              "  <svg xmlns=\"http://www.w3.org/2000/svg\" height=\"24px\"viewBox=\"0 0 24 24\"\n",
              "       width=\"24px\">\n",
              "    <path d=\"M0 0h24v24H0V0z\" fill=\"none\"/>\n",
              "    <path d=\"M18.56 5.44l.94 2.06.94-2.06 2.06-.94-2.06-.94-.94-2.06-.94 2.06-2.06.94zm-11 1L8.5 8.5l.94-2.06 2.06-.94-2.06-.94L8.5 2.5l-.94 2.06-2.06.94zm10 10l.94 2.06.94-2.06 2.06-.94-2.06-.94-.94-2.06-.94 2.06-2.06.94z\"/><path d=\"M17.41 7.96l-1.37-1.37c-.4-.4-.92-.59-1.43-.59-.52 0-1.04.2-1.43.59L10.3 9.45l-7.72 7.72c-.78.78-.78 2.05 0 2.83L4 21.41c.39.39.9.59 1.41.59.51 0 1.02-.2 1.41-.59l7.78-7.78 2.81-2.81c.8-.78.8-2.07 0-2.86zM5.41 20L4 18.59l7.72-7.72 1.47 1.35L5.41 20z\"/>\n",
              "  </svg>\n",
              "      </button>\n",
              "      \n",
              "  <style>\n",
              "    .colab-df-container {\n",
              "      display:flex;\n",
              "      flex-wrap:wrap;\n",
              "      gap: 12px;\n",
              "    }\n",
              "\n",
              "    .colab-df-convert {\n",
              "      background-color: #E8F0FE;\n",
              "      border: none;\n",
              "      border-radius: 50%;\n",
              "      cursor: pointer;\n",
              "      display: none;\n",
              "      fill: #1967D2;\n",
              "      height: 32px;\n",
              "      padding: 0 0 0 0;\n",
              "      width: 32px;\n",
              "    }\n",
              "\n",
              "    .colab-df-convert:hover {\n",
              "      background-color: #E2EBFA;\n",
              "      box-shadow: 0px 1px 2px rgba(60, 64, 67, 0.3), 0px 1px 3px 1px rgba(60, 64, 67, 0.15);\n",
              "      fill: #174EA6;\n",
              "    }\n",
              "\n",
              "    [theme=dark] .colab-df-convert {\n",
              "      background-color: #3B4455;\n",
              "      fill: #D2E3FC;\n",
              "    }\n",
              "\n",
              "    [theme=dark] .colab-df-convert:hover {\n",
              "      background-color: #434B5C;\n",
              "      box-shadow: 0px 1px 3px 1px rgba(0, 0, 0, 0.15);\n",
              "      filter: drop-shadow(0px 1px 2px rgba(0, 0, 0, 0.3));\n",
              "      fill: #FFFFFF;\n",
              "    }\n",
              "  </style>\n",
              "\n",
              "      <script>\n",
              "        const buttonEl =\n",
              "          document.querySelector('#df-d89b45f3-a070-4cdf-ae2f-2d1a105ce0a5 button.colab-df-convert');\n",
              "        buttonEl.style.display =\n",
              "          google.colab.kernel.accessAllowed ? 'block' : 'none';\n",
              "\n",
              "        async function convertToInteractive(key) {\n",
              "          const element = document.querySelector('#df-d89b45f3-a070-4cdf-ae2f-2d1a105ce0a5');\n",
              "          const dataTable =\n",
              "            await google.colab.kernel.invokeFunction('convertToInteractive',\n",
              "                                                     [key], {});\n",
              "          if (!dataTable) return;\n",
              "\n",
              "          const docLinkHtml = 'Like what you see? Visit the ' +\n",
              "            '<a target=\"_blank\" href=https://colab.research.google.com/notebooks/data_table.ipynb>data table notebook</a>'\n",
              "            + ' to learn more about interactive tables.';\n",
              "          element.innerHTML = '';\n",
              "          dataTable['output_type'] = 'display_data';\n",
              "          await google.colab.output.renderOutput(dataTable, element);\n",
              "          const docLink = document.createElement('div');\n",
              "          docLink.innerHTML = docLinkHtml;\n",
              "          element.appendChild(docLink);\n",
              "        }\n",
              "      </script>\n",
              "    </div>\n",
              "  </div>\n",
              "  "
            ]
          },
          "metadata": {},
          "execution_count": 306
        }
      ]
    },
    {
      "cell_type": "code",
      "source": [
        "df = df.drop(['Time_ordered'], axis = 1)"
      ],
      "metadata": {
        "id": "aRNbPimMcZwP"
      },
      "execution_count": 307,
      "outputs": []
    },
    {
      "cell_type": "code",
      "source": [
        "df_late = df['Late']\n",
        "df = df.drop(['Late'], axis = 1)"
      ],
      "metadata": {
        "id": "AEQYMqvEgBMN"
      },
      "execution_count": 308,
      "outputs": []
    },
    {
      "cell_type": "code",
      "source": [
        "scaler = StandardScaler()\n",
        "df_norm = scaler.fit_transform(df)"
      ],
      "metadata": {
        "id": "MsBOJTWFcXOA"
      },
      "execution_count": 309,
      "outputs": []
    },
    {
      "cell_type": "code",
      "source": [
        "df_norm = pd.DataFrame(df_norm, columns=df.columns)"
      ],
      "metadata": {
        "id": "XX-j5wMMejVl"
      },
      "execution_count": 310,
      "outputs": []
    },
    {
      "cell_type": "code",
      "source": [
        "df_norm = pd.concat([df_norm, df_late], axis=1)"
      ],
      "metadata": {
        "id": "omYLUqmfgyHL"
      },
      "execution_count": 311,
      "outputs": []
    },
    {
      "cell_type": "code",
      "source": [
        "df_norm.head()"
      ],
      "metadata": {
        "colab": {
          "base_uri": "https://localhost:8080/",
          "height": 206
        },
        "id": "n9IUrDFUg2jk",
        "outputId": "887115ed-f16e-456b-ea4b-53627db101fa"
      },
      "execution_count": 312,
      "outputs": [
        {
          "output_type": "execute_result",
          "data": {
            "text/plain": [
              "   Weather_status  Urban_location  Distance_miles  Product_type  \\\n",
              "0       -0.986754       -0.952250       -0.508123     -1.352270   \n",
              "1       -0.986754       -0.952250        1.374031      0.483391   \n",
              "2        1.013423        1.050145        1.145029     -0.434440   \n",
              "3       -0.986754        1.050145       -0.552312      0.483391   \n",
              "4        1.013423        1.050145        1.051654      0.483391   \n",
              "\n",
              "   Order_date_numeric  Late  \n",
              "0            1.740470     0  \n",
              "1            0.224491     0  \n",
              "2            1.399375     0  \n",
              "3            0.101318     0  \n",
              "4            1.171978     0  "
            ],
            "text/html": [
              "\n",
              "  <div id=\"df-d34e98a3-4963-48c4-94a4-0f8d2a0bd2a6\">\n",
              "    <div class=\"colab-df-container\">\n",
              "      <div>\n",
              "<style scoped>\n",
              "    .dataframe tbody tr th:only-of-type {\n",
              "        vertical-align: middle;\n",
              "    }\n",
              "\n",
              "    .dataframe tbody tr th {\n",
              "        vertical-align: top;\n",
              "    }\n",
              "\n",
              "    .dataframe thead th {\n",
              "        text-align: right;\n",
              "    }\n",
              "</style>\n",
              "<table border=\"1\" class=\"dataframe\">\n",
              "  <thead>\n",
              "    <tr style=\"text-align: right;\">\n",
              "      <th></th>\n",
              "      <th>Weather_status</th>\n",
              "      <th>Urban_location</th>\n",
              "      <th>Distance_miles</th>\n",
              "      <th>Product_type</th>\n",
              "      <th>Order_date_numeric</th>\n",
              "      <th>Late</th>\n",
              "    </tr>\n",
              "  </thead>\n",
              "  <tbody>\n",
              "    <tr>\n",
              "      <th>0</th>\n",
              "      <td>-0.986754</td>\n",
              "      <td>-0.952250</td>\n",
              "      <td>-0.508123</td>\n",
              "      <td>-1.352270</td>\n",
              "      <td>1.740470</td>\n",
              "      <td>0</td>\n",
              "    </tr>\n",
              "    <tr>\n",
              "      <th>1</th>\n",
              "      <td>-0.986754</td>\n",
              "      <td>-0.952250</td>\n",
              "      <td>1.374031</td>\n",
              "      <td>0.483391</td>\n",
              "      <td>0.224491</td>\n",
              "      <td>0</td>\n",
              "    </tr>\n",
              "    <tr>\n",
              "      <th>2</th>\n",
              "      <td>1.013423</td>\n",
              "      <td>1.050145</td>\n",
              "      <td>1.145029</td>\n",
              "      <td>-0.434440</td>\n",
              "      <td>1.399375</td>\n",
              "      <td>0</td>\n",
              "    </tr>\n",
              "    <tr>\n",
              "      <th>3</th>\n",
              "      <td>-0.986754</td>\n",
              "      <td>1.050145</td>\n",
              "      <td>-0.552312</td>\n",
              "      <td>0.483391</td>\n",
              "      <td>0.101318</td>\n",
              "      <td>0</td>\n",
              "    </tr>\n",
              "    <tr>\n",
              "      <th>4</th>\n",
              "      <td>1.013423</td>\n",
              "      <td>1.050145</td>\n",
              "      <td>1.051654</td>\n",
              "      <td>0.483391</td>\n",
              "      <td>1.171978</td>\n",
              "      <td>0</td>\n",
              "    </tr>\n",
              "  </tbody>\n",
              "</table>\n",
              "</div>\n",
              "      <button class=\"colab-df-convert\" onclick=\"convertToInteractive('df-d34e98a3-4963-48c4-94a4-0f8d2a0bd2a6')\"\n",
              "              title=\"Convert this dataframe to an interactive table.\"\n",
              "              style=\"display:none;\">\n",
              "        \n",
              "  <svg xmlns=\"http://www.w3.org/2000/svg\" height=\"24px\"viewBox=\"0 0 24 24\"\n",
              "       width=\"24px\">\n",
              "    <path d=\"M0 0h24v24H0V0z\" fill=\"none\"/>\n",
              "    <path d=\"M18.56 5.44l.94 2.06.94-2.06 2.06-.94-2.06-.94-.94-2.06-.94 2.06-2.06.94zm-11 1L8.5 8.5l.94-2.06 2.06-.94-2.06-.94L8.5 2.5l-.94 2.06-2.06.94zm10 10l.94 2.06.94-2.06 2.06-.94-2.06-.94-.94-2.06-.94 2.06-2.06.94z\"/><path d=\"M17.41 7.96l-1.37-1.37c-.4-.4-.92-.59-1.43-.59-.52 0-1.04.2-1.43.59L10.3 9.45l-7.72 7.72c-.78.78-.78 2.05 0 2.83L4 21.41c.39.39.9.59 1.41.59.51 0 1.02-.2 1.41-.59l7.78-7.78 2.81-2.81c.8-.78.8-2.07 0-2.86zM5.41 20L4 18.59l7.72-7.72 1.47 1.35L5.41 20z\"/>\n",
              "  </svg>\n",
              "      </button>\n",
              "      \n",
              "  <style>\n",
              "    .colab-df-container {\n",
              "      display:flex;\n",
              "      flex-wrap:wrap;\n",
              "      gap: 12px;\n",
              "    }\n",
              "\n",
              "    .colab-df-convert {\n",
              "      background-color: #E8F0FE;\n",
              "      border: none;\n",
              "      border-radius: 50%;\n",
              "      cursor: pointer;\n",
              "      display: none;\n",
              "      fill: #1967D2;\n",
              "      height: 32px;\n",
              "      padding: 0 0 0 0;\n",
              "      width: 32px;\n",
              "    }\n",
              "\n",
              "    .colab-df-convert:hover {\n",
              "      background-color: #E2EBFA;\n",
              "      box-shadow: 0px 1px 2px rgba(60, 64, 67, 0.3), 0px 1px 3px 1px rgba(60, 64, 67, 0.15);\n",
              "      fill: #174EA6;\n",
              "    }\n",
              "\n",
              "    [theme=dark] .colab-df-convert {\n",
              "      background-color: #3B4455;\n",
              "      fill: #D2E3FC;\n",
              "    }\n",
              "\n",
              "    [theme=dark] .colab-df-convert:hover {\n",
              "      background-color: #434B5C;\n",
              "      box-shadow: 0px 1px 3px 1px rgba(0, 0, 0, 0.15);\n",
              "      filter: drop-shadow(0px 1px 2px rgba(0, 0, 0, 0.3));\n",
              "      fill: #FFFFFF;\n",
              "    }\n",
              "  </style>\n",
              "\n",
              "      <script>\n",
              "        const buttonEl =\n",
              "          document.querySelector('#df-d34e98a3-4963-48c4-94a4-0f8d2a0bd2a6 button.colab-df-convert');\n",
              "        buttonEl.style.display =\n",
              "          google.colab.kernel.accessAllowed ? 'block' : 'none';\n",
              "\n",
              "        async function convertToInteractive(key) {\n",
              "          const element = document.querySelector('#df-d34e98a3-4963-48c4-94a4-0f8d2a0bd2a6');\n",
              "          const dataTable =\n",
              "            await google.colab.kernel.invokeFunction('convertToInteractive',\n",
              "                                                     [key], {});\n",
              "          if (!dataTable) return;\n",
              "\n",
              "          const docLinkHtml = 'Like what you see? Visit the ' +\n",
              "            '<a target=\"_blank\" href=https://colab.research.google.com/notebooks/data_table.ipynb>data table notebook</a>'\n",
              "            + ' to learn more about interactive tables.';\n",
              "          element.innerHTML = '';\n",
              "          dataTable['output_type'] = 'display_data';\n",
              "          await google.colab.output.renderOutput(dataTable, element);\n",
              "          const docLink = document.createElement('div');\n",
              "          docLink.innerHTML = docLinkHtml;\n",
              "          element.appendChild(docLink);\n",
              "        }\n",
              "      </script>\n",
              "    </div>\n",
              "  </div>\n",
              "  "
            ]
          },
          "metadata": {},
          "execution_count": 312
        }
      ]
    },
    {
      "cell_type": "code",
      "source": [
        "input_data = df_norm[['Order_date_numeric', 'Weather_status', 'Urban_location', 'Distance_miles', 'Product_type']]\n",
        "target = df_norm['Late']"
      ],
      "metadata": {
        "id": "TWBbChCHMEn4"
      },
      "execution_count": 313,
      "outputs": []
    },
    {
      "cell_type": "code",
      "source": [
        "#split data in train and test\n",
        "from sklearn.model_selection import train_test_split\n",
        "np.random.seed(123)\n",
        "X_train, X_test, Y_train, Y_test = train_test_split(input_data, target, \n",
        "                                                    train_size = 0.80, test_size = 0.20, random_state = 1)"
      ],
      "metadata": {
        "id": "ExPud68oL0vs"
      },
      "execution_count": 314,
      "outputs": []
    },
    {
      "cell_type": "code",
      "source": [
        "#setup beofre creating knn classifier \n",
        "neighbours = np.arange(1,50)\n",
        "train_accuracy =np.empty(len(neighbours))\n",
        "test_accuracy = np.empty(len(neighbours))\n",
        "\n",
        "for i,k in enumerate(neighbours):\n",
        "    #Setup a knn classifier with k neighbors\n",
        "    knn=KNeighborsClassifier(n_neighbors=k,algorithm=\"kd_tree\",n_jobs=-1)\n",
        "    \n",
        "    #Fit the model\n",
        "    knn.fit(X_train,Y_train.values.ravel())\n",
        "    \n",
        "    #Compute accuracy on the training set\n",
        "    train_accuracy[i] = knn.score(X_train, Y_train.values.ravel())\n",
        "    \n",
        "    #Compute accuracy on the test set\n",
        "    test_accuracy[i] = knn.score(X_test, Y_test.values.ravel()) "
      ],
      "metadata": {
        "id": "9AIJyinCLvkR"
      },
      "execution_count": 315,
      "outputs": []
    },
    {
      "cell_type": "code",
      "source": [
        "#Generate plot\n",
        "plt.title('k-NN Varying number of neighbors')\n",
        "plt.plot(neighbours, test_accuracy, label='Testing Accuracy')\n",
        "plt.plot(neighbours, train_accuracy, label='Training accuracy')\n",
        "plt.legend()\n",
        "plt.xlabel('Number of neighbors')\n",
        "plt.ylabel('Accuracy')\n",
        "plt.show()"
      ],
      "metadata": {
        "colab": {
          "base_uri": "https://localhost:8080/",
          "height": 295
        },
        "id": "FSbmf4XrNqDT",
        "outputId": "dfc3e246-d467-401e-d79a-650428caa947"
      },
      "execution_count": 316,
      "outputs": [
        {
          "output_type": "display_data",
          "data": {
            "text/plain": [
              "<Figure size 432x288 with 1 Axes>"
            ],
            "image/png": "[encoded data removed]"
          },
          "metadata": {
            "needs_background": "light"
          }
        }
      ]
    },
    {
      "cell_type": "code",
      "source": [
        "#identify best value for n_neighbours\n",
        "idx = np.where(test_accuracy == max(test_accuracy))\n",
        "x = neighbours[idx]"
      ],
      "metadata": {
        "id": "zBp0TSQiQCDa"
      },
      "execution_count": 317,
      "outputs": []
    },
    {
      "cell_type": "code",
      "source": [
        "#print best value for n_neighbours\n",
        "print(x[0])"
      ],
      "metadata": {
        "colab": {
          "base_uri": "https://localhost:8080/"
        },
        "id": "I0rqjo0vQDYZ",
        "outputId": "cb27aff3-6805-45eb-b163-e99d221e1eed"
      },
      "execution_count": 318,
      "outputs": [
        {
          "output_type": "stream",
          "name": "stdout",
          "text": [
            "2\n"
          ]
        }
      ]
    },
    {
      "cell_type": "code",
      "source": [
        "#k_nearest_neighbours_classification\n",
        "knn=KNeighborsClassifier(n_neighbors=x[0],algorithm=\"kd_tree\",n_jobs=-1)\n",
        "knn.fit(X_train,Y_train.ravel())"
      ],
      "metadata": {
        "colab": {
          "base_uri": "https://localhost:8080/"
        },
        "id": "ULvm3LMuQFBz",
        "outputId": "3a2dd692-906b-4107-f220-69c21fc56acf"
      },
      "execution_count": 319,
      "outputs": [
        {
          "output_type": "execute_result",
          "data": {
            "text/plain": [
              "KNeighborsClassifier(algorithm='kd_tree', n_jobs=-1, n_neighbors=2)"
            ]
          },
          "metadata": {},
          "execution_count": 319
        }
      ]
    },
    {
      "cell_type": "code",
      "source": [
        "#predicting labels for testing set\n",
        "knn_predicted_test_labels=knn.predict(X_test)"
      ],
      "metadata": {
        "id": "yTBf6YbKQGtt"
      },
      "execution_count": 320,
      "outputs": []
    },
    {
      "cell_type": "code",
      "source": [
        "#scoring KNN\n",
        "knn_accuracy_score  = accuracy_score(Y_test,knn_predicted_test_labels)\n",
        "knn_precison_score  = precision_score(Y_test,knn_predicted_test_labels)\n",
        "knn_recall_score    = recall_score(Y_test,knn_predicted_test_labels)\n",
        "knn_f1_score        = f1_score(Y_test,knn_predicted_test_labels)\n",
        "knn_MCC             = matthews_corrcoef(Y_test,knn_predicted_test_labels)"
      ],
      "metadata": {
        "id": "P3X8H0P3QI3u"
      },
      "execution_count": 321,
      "outputs": []
    },
    {
      "cell_type": "code",
      "source": [
        "#print KNN score\n",
        "print(\"\")\n",
        "print(\"K-Nearest Neighbours\")\n",
        "print(\"Scores\")\n",
        "print(\"Accuracy -->\",knn_accuracy_score)\n",
        "print(\"Precison -->\",knn_precison_score)\n",
        "print(\"Recall -->\",knn_recall_score)\n",
        "print(\"F1 -->\",knn_f1_score)\n",
        "print(\"MCC -->\",knn_MCC)\n",
        "print(classification_report(Y_test,knn_predicted_test_labels))"
      ],
      "metadata": {
        "colab": {
          "base_uri": "https://localhost:8080/"
        },
        "id": "BR7DGIHYQKkq",
        "outputId": "0ae8093b-8b47-4ea7-cea6-926e747c81d7"
      },
      "execution_count": 322,
      "outputs": [
        {
          "output_type": "stream",
          "name": "stdout",
          "text": [
            "\n",
            "K-Nearest Neighbours\n",
            "Scores\n",
            "Accuracy --> 0.5888888888888889\n",
            "Precison --> 0.8666666666666667\n",
            "Recall --> 0.2708333333333333\n",
            "F1 --> 0.41269841269841273\n",
            "MCC --> 0.2988071523335984\n",
            "              precision    recall  f1-score   support\n",
            "\n",
            "           0       0.53      0.95      0.68        42\n",
            "           1       0.87      0.27      0.41        48\n",
            "\n",
            "    accuracy                           0.59        90\n",
            "   macro avg       0.70      0.61      0.55        90\n",
            "weighted avg       0.71      0.59      0.54        90\n",
            "\n"
          ]
        }
      ]
    },
    {
      "cell_type": "markdown",
      "source": [
        "XGBoost"
      ],
      "metadata": {
        "id": "Ssn3tVBVjFwe"
      }
    },
    {
      "cell_type": "code",
      "source": [
        "def RunModel(model, X_train, y_train, X_test, y_test):\n",
        "    model.fit(X_train, y_train.values.ravel())\n",
        "    pred = model.predict(X_test)\n",
        "    matrix = confusion_matrix(y_test, pred)\n",
        "    return matrix, pred"
      ],
      "metadata": {
        "id": "R9Ghc3RUjHlC"
      },
      "execution_count": 323,
      "outputs": []
    },
    {
      "cell_type": "code",
      "source": [
        "def PrintStats(cmat, y_test, pred):\n",
        "    tpos = cmat[0][0]\n",
        "    fneg = cmat[1][1]\n",
        "    fpos = cmat[0][1]\n",
        "    tneg = cmat[1][0]"
      ],
      "metadata": {
        "id": "dmW7IrVMjIFk"
      },
      "execution_count": 324,
      "outputs": []
    },
    {
      "cell_type": "code",
      "source": [
        "df.head()"
      ],
      "metadata": {
        "colab": {
          "base_uri": "https://localhost:8080/",
          "height": 206
        },
        "id": "KpSsoS7BK9fQ",
        "outputId": "525457c7-6f40-40ca-a3e7-6e14a30cae10"
      },
      "execution_count": 325,
      "outputs": [
        {
          "output_type": "execute_result",
          "data": {
            "text/plain": [
              "   Weather_status  Urban_location  Distance_miles Product_type  \\\n",
              "0               0               0          35.812            1   \n",
              "1               0               0          91.183            3   \n",
              "2               1               1          84.446            2   \n",
              "3               0               1          34.512            3   \n",
              "4               1               1          81.699            3   \n",
              "\n",
              "   Order_date_numeric  \n",
              "0        1.608941e+09  \n",
              "1        1.595117e+09  \n",
              "2        1.605830e+09  \n",
              "3        1.593994e+09  \n",
              "4        1.603757e+09  "
            ],
            "text/html": [
              "\n",
              "  <div id=\"df-0139b5c7-14d3-4e0d-b3c7-2f7db8e2c742\">\n",
              "    <div class=\"colab-df-container\">\n",
              "      <div>\n",
              "<style scoped>\n",
              "    .dataframe tbody tr th:only-of-type {\n",
              "        vertical-align: middle;\n",
              "    }\n",
              "\n",
              "    .dataframe tbody tr th {\n",
              "        vertical-align: top;\n",
              "    }\n",
              "\n",
              "    .dataframe thead th {\n",
              "        text-align: right;\n",
              "    }\n",
              "</style>\n",
              "<table border=\"1\" class=\"dataframe\">\n",
              "  <thead>\n",
              "    <tr style=\"text-align: right;\">\n",
              "      <th></th>\n",
              "      <th>Weather_status</th>\n",
              "      <th>Urban_location</th>\n",
              "      <th>Distance_miles</th>\n",
              "      <th>Product_type</th>\n",
              "      <th>Order_date_numeric</th>\n",
              "    </tr>\n",
              "  </thead>\n",
              "  <tbody>\n",
              "    <tr>\n",
              "      <th>0</th>\n",
              "      <td>0</td>\n",
              "      <td>0</td>\n",
              "      <td>35.812</td>\n",
              "      <td>1</td>\n",
              "      <td>1.608941e+09</td>\n",
              "    </tr>\n",
              "    <tr>\n",
              "      <th>1</th>\n",
              "      <td>0</td>\n",
              "      <td>0</td>\n",
              "      <td>91.183</td>\n",
              "      <td>3</td>\n",
              "      <td>1.595117e+09</td>\n",
              "    </tr>\n",
              "    <tr>\n",
              "      <th>2</th>\n",
              "      <td>1</td>\n",
              "      <td>1</td>\n",
              "      <td>84.446</td>\n",
              "      <td>2</td>\n",
              "      <td>1.605830e+09</td>\n",
              "    </tr>\n",
              "    <tr>\n",
              "      <th>3</th>\n",
              "      <td>0</td>\n",
              "      <td>1</td>\n",
              "      <td>34.512</td>\n",
              "      <td>3</td>\n",
              "      <td>1.593994e+09</td>\n",
              "    </tr>\n",
              "    <tr>\n",
              "      <th>4</th>\n",
              "      <td>1</td>\n",
              "      <td>1</td>\n",
              "      <td>81.699</td>\n",
              "      <td>3</td>\n",
              "      <td>1.603757e+09</td>\n",
              "    </tr>\n",
              "  </tbody>\n",
              "</table>\n",
              "</div>\n",
              "      <button class=\"colab-df-convert\" onclick=\"convertToInteractive('df-0139b5c7-14d3-4e0d-b3c7-2f7db8e2c742')\"\n",
              "              title=\"Convert this dataframe to an interactive table.\"\n",
              "              style=\"display:none;\">\n",
              "        \n",
              "  <svg xmlns=\"http://www.w3.org/2000/svg\" height=\"24px\"viewBox=\"0 0 24 24\"\n",
              "       width=\"24px\">\n",
              "    <path d=\"M0 0h24v24H0V0z\" fill=\"none\"/>\n",
              "    <path d=\"M18.56 5.44l.94 2.06.94-2.06 2.06-.94-2.06-.94-.94-2.06-.94 2.06-2.06.94zm-11 1L8.5 8.5l.94-2.06 2.06-.94-2.06-.94L8.5 2.5l-.94 2.06-2.06.94zm10 10l.94 2.06.94-2.06 2.06-.94-2.06-.94-.94-2.06-.94 2.06-2.06.94z\"/><path d=\"M17.41 7.96l-1.37-1.37c-.4-.4-.92-.59-1.43-.59-.52 0-1.04.2-1.43.59L10.3 9.45l-7.72 7.72c-.78.78-.78 2.05 0 2.83L4 21.41c.39.39.9.59 1.41.59.51 0 1.02-.2 1.41-.59l7.78-7.78 2.81-2.81c.8-.78.8-2.07 0-2.86zM5.41 20L4 18.59l7.72-7.72 1.47 1.35L5.41 20z\"/>\n",
              "  </svg>\n",
              "      </button>\n",
              "      \n",
              "  <style>\n",
              "    .colab-df-container {\n",
              "      display:flex;\n",
              "      flex-wrap:wrap;\n",
              "      gap: 12px;\n",
              "    }\n",
              "\n",
              "    .colab-df-convert {\n",
              "      background-color: #E8F0FE;\n",
              "      border: none;\n",
              "      border-radius: 50%;\n",
              "      cursor: pointer;\n",
              "      display: none;\n",
              "      fill: #1967D2;\n",
              "      height: 32px;\n",
              "      padding: 0 0 0 0;\n",
              "      width: 32px;\n",
              "    }\n",
              "\n",
              "    .colab-df-convert:hover {\n",
              "      background-color: #E2EBFA;\n",
              "      box-shadow: 0px 1px 2px rgba(60, 64, 67, 0.3), 0px 1px 3px 1px rgba(60, 64, 67, 0.15);\n",
              "      fill: #174EA6;\n",
              "    }\n",
              "\n",
              "    [theme=dark] .colab-df-convert {\n",
              "      background-color: #3B4455;\n",
              "      fill: #D2E3FC;\n",
              "    }\n",
              "\n",
              "    [theme=dark] .colab-df-convert:hover {\n",
              "      background-color: #434B5C;\n",
              "      box-shadow: 0px 1px 3px 1px rgba(0, 0, 0, 0.15);\n",
              "      filter: drop-shadow(0px 1px 2px rgba(0, 0, 0, 0.3));\n",
              "      fill: #FFFFFF;\n",
              "    }\n",
              "  </style>\n",
              "\n",
              "      <script>\n",
              "        const buttonEl =\n",
              "          document.querySelector('#df-0139b5c7-14d3-4e0d-b3c7-2f7db8e2c742 button.colab-df-convert');\n",
              "        buttonEl.style.display =\n",
              "          google.colab.kernel.accessAllowed ? 'block' : 'none';\n",
              "\n",
              "        async function convertToInteractive(key) {\n",
              "          const element = document.querySelector('#df-0139b5c7-14d3-4e0d-b3c7-2f7db8e2c742');\n",
              "          const dataTable =\n",
              "            await google.colab.kernel.invokeFunction('convertToInteractive',\n",
              "                                                     [key], {});\n",
              "          if (!dataTable) return;\n",
              "\n",
              "          const docLinkHtml = 'Like what you see? Visit the ' +\n",
              "            '<a target=\"_blank\" href=https://colab.research.google.com/notebooks/data_table.ipynb>data table notebook</a>'\n",
              "            + ' to learn more about interactive tables.';\n",
              "          element.innerHTML = '';\n",
              "          dataTable['output_type'] = 'display_data';\n",
              "          await google.colab.output.renderOutput(dataTable, element);\n",
              "          const docLink = document.createElement('div');\n",
              "          docLink.innerHTML = docLinkHtml;\n",
              "          element.appendChild(docLink);\n",
              "        }\n",
              "      </script>\n",
              "    </div>\n",
              "  </div>\n",
              "  "
            ]
          },
          "metadata": {},
          "execution_count": 325
        }
      ]
    },
    {
      "cell_type": "code",
      "source": [
        "xgb = xgb.XGBClassifier() \n",
        "cmat, pred = RunModel(xgb, X_train, Y_train, X_test, Y_test)\n",
        "PrintStats(cmat, Y_test, pred)"
      ],
      "metadata": {
        "id": "F_qIiMTLjKmy"
      },
      "execution_count": 326,
      "outputs": []
    },
    {
      "cell_type": "code",
      "source": [
        "#print confusion matrix for XGBoost\n",
        "skplt.metrics.plot_confusion_matrix(Y_test, pred)"
      ],
      "metadata": {
        "colab": {
          "base_uri": "https://localhost:8080/",
          "height": 314
        },
        "id": "9i7e6O1yjL76",
        "outputId": "b3269c7e-68af-47e0-ae55-07253b772c2a"
      },
      "execution_count": 327,
      "outputs": [
        {
          "output_type": "execute_result",
          "data": {
            "text/plain": [
              "<matplotlib.axes._subplots.AxesSubplot at 0x7ff3e1aa9a90>"
            ]
          },
          "metadata": {},
          "execution_count": 327
        },
        {
          "output_type": "display_data",
          "data": {
            "text/plain": [
              "<Figure size 432x288 with 2 Axes>"
            ],
            "image/png": "[encoded data removed]"
          },
          "metadata": {
            "needs_background": "light"
          }
        }
      ]
    },
    {
      "cell_type": "code",
      "source": [
        "#print classification report for XGBoost\n",
        "print (classification_report(Y_test, pred))"
      ],
      "metadata": {
        "colab": {
          "base_uri": "https://localhost:8080/"
        },
        "id": "-IqieJ6WjNvH",
        "outputId": "686590b0-40bc-4719-ea24-34d77956fd7b"
      },
      "execution_count": 328,
      "outputs": [
        {
          "output_type": "stream",
          "name": "stdout",
          "text": [
            "              precision    recall  f1-score   support\n",
            "\n",
            "           0       0.54      0.67      0.60        42\n",
            "           1       0.63      0.50      0.56        48\n",
            "\n",
            "    accuracy                           0.58        90\n",
            "   macro avg       0.59      0.58      0.58        90\n",
            "weighted avg       0.59      0.58      0.58        90\n",
            "\n"
          ]
        }
      ]
    },
    {
      "cell_type": "code",
      "source": [
        "params={\n",
        " \"learning_rate\"    : [0.05, 0.1, 0.2, 0.3, 1 ] ,\n",
        " \"max_depth\"        : [10, 12, 15],\n",
        " \"min_child_weight\" : [ 1, 3 ],\n",
        " \"gamma\"            : [ 0.0, 0.15, 0.3]\n",
        "    \n",
        "}"
      ],
      "metadata": {
        "id": "3mDQBzrJjPQN"
      },
      "execution_count": 329,
      "outputs": []
    },
    {
      "cell_type": "code",
      "source": [
        "random_search= RandomizedSearchCV(estimator = xgb,param_distributions=params,n_iter=10,scoring='f1',n_jobs=-1,cv=5)"
      ],
      "metadata": {
        "id": "FhTAlYr5jQ6k"
      },
      "execution_count": 330,
      "outputs": []
    },
    {
      "cell_type": "code",
      "source": [
        "random_search.fit(X_train,Y_train.ravel())"
      ],
      "metadata": {
        "colab": {
          "base_uri": "https://localhost:8080/"
        },
        "id": "1E8XsyRQjSsJ",
        "outputId": "8371800e-f077-4afa-f3fc-7932084f755b"
      },
      "execution_count": 331,
      "outputs": [
        {
          "output_type": "execute_result",
          "data": {
            "text/plain": [
              "RandomizedSearchCV(cv=5, estimator=XGBClassifier(), n_jobs=-1,\n",
              "                   param_distributions={'gamma': [0.0, 0.15, 0.3],\n",
              "                                        'learning_rate': [0.05, 0.1, 0.2, 0.3,\n",
              "                                                          1],\n",
              "                                        'max_depth': [10, 12, 15],\n",
              "                                        'min_child_weight': [1, 3]},\n",
              "                   scoring='f1')"
            ]
          },
          "metadata": {},
          "execution_count": 331
        }
      ]
    },
    {
      "cell_type": "code",
      "source": [
        "xgb_tuned = xgb.XGBClassifier(gamma=0.3, learning_rate=1, max_depth=15) \n",
        "cmat, pred_tuned = RunModel(xgb_tuned, X_train, Y_train, X_test, Y_test)\n",
        "PrintStats(cmat, Y_test, pred_tuned)"
      ],
      "metadata": {
        "id": "bVbD2wRajVog",
        "colab": {
          "base_uri": "https://localhost:8080/",
          "height": 213
        },
        "outputId": "2cd1538c-adb9-434c-e3f2-a3fbe7e04641"
      },
      "execution_count": 336,
      "outputs": [
        {
          "output_type": "error",
          "ename": "AttributeError",
          "evalue": "ignored",
          "traceback": [
            "\u001b[0;31m---------------------------------------------------------------------------\u001b[0m",
            "\u001b[0;31mAttributeError\u001b[0m                            Traceback (most recent call last)",
            "\u001b[0;32m<ipython-input-336-021b52988442>\u001b[0m in \u001b[0;36m<module>\u001b[0;34m\u001b[0m\n\u001b[0;32m----> 1\u001b[0;31m \u001b[0mxgb_tuned\u001b[0m \u001b[0;34m=\u001b[0m \u001b[0mxgb\u001b[0m\u001b[0;34m.\u001b[0m\u001b[0mXGBClassifier\u001b[0m\u001b[0;34m(\u001b[0m\u001b[0mgamma\u001b[0m\u001b[0;34m=\u001b[0m\u001b[0;36m0.3\u001b[0m\u001b[0;34m,\u001b[0m \u001b[0mlearning_rate\u001b[0m\u001b[0;34m=\u001b[0m\u001b[0;36m1\u001b[0m\u001b[0;34m,\u001b[0m \u001b[0mmax_depth\u001b[0m\u001b[0;34m=\u001b[0m\u001b[0;36m15\u001b[0m\u001b[0;34m)\u001b[0m\u001b[0;34m\u001b[0m\u001b[0;34m\u001b[0m\u001b[0m\n\u001b[0m\u001b[1;32m      2\u001b[0m \u001b[0mcmat\u001b[0m\u001b[0;34m,\u001b[0m \u001b[0mpred_tuned\u001b[0m \u001b[0;34m=\u001b[0m \u001b[0mRunModel\u001b[0m\u001b[0;34m(\u001b[0m\u001b[0mxgb_tuned\u001b[0m\u001b[0;34m,\u001b[0m \u001b[0mX_train\u001b[0m\u001b[0;34m,\u001b[0m \u001b[0mY_train\u001b[0m\u001b[0;34m,\u001b[0m \u001b[0mX_test\u001b[0m\u001b[0;34m,\u001b[0m \u001b[0mY_test\u001b[0m\u001b[0;34m)\u001b[0m\u001b[0;34m\u001b[0m\u001b[0;34m\u001b[0m\u001b[0m\n\u001b[1;32m      3\u001b[0m \u001b[0mPrintStats\u001b[0m\u001b[0;34m(\u001b[0m\u001b[0mcmat\u001b[0m\u001b[0;34m,\u001b[0m \u001b[0mY_test\u001b[0m\u001b[0;34m,\u001b[0m \u001b[0mpred_tuned\u001b[0m\u001b[0;34m)\u001b[0m\u001b[0;34m\u001b[0m\u001b[0;34m\u001b[0m\u001b[0m\n",
            "\u001b[0;31mAttributeError\u001b[0m: 'XGBClassifier' object has no attribute 'XGBClassifier'"
          ]
        }
      ]
    },
    {
      "cell_type": "code",
      "source": [
        "#print confusion matrix for XGBoost tuned\n",
        "skplt.metrics.plot_confusion_matrix(Y_test, pred)"
      ],
      "metadata": {
        "colab": {
          "base_uri": "https://localhost:8080/",
          "height": 312
        },
        "id": "_PuH4sdNjXen",
        "outputId": "5046c28f-693c-4473-e0bc-e834cc32a030"
      },
      "execution_count": null,
      "outputs": [
        {
          "output_type": "execute_result",
          "data": {
            "text/plain": [
              "<matplotlib.axes._subplots.AxesSubplot at 0x7ff3e0a9f9a0>"
            ]
          },
          "metadata": {},
          "execution_count": 165
        },
        {
          "output_type": "display_data",
          "data": {
            "text/plain": [
              "<Figure size 432x288 with 2 Axes>"
            ],
            "image/png": "[encoded data removed]"
          },
          "metadata": {
            "needs_background": "light"
          }
        }
      ]
    },
    {
      "cell_type": "code",
      "source": [
        "#print classification report for XGBoost tuned\n",
        "print (classification_report(Y_test, pred_tuned))"
      ],
      "metadata": {
        "colab": {
          "base_uri": "https://localhost:8080/"
        },
        "id": "XDn2xDCjjYwg",
        "outputId": "37765b2f-5513-4a7f-853e-45244a67f455"
      },
      "execution_count": null,
      "outputs": [
        {
          "output_type": "stream",
          "name": "stdout",
          "text": [
            "              precision    recall  f1-score   support\n",
            "\n",
            "           0       0.50      0.60      0.55        45\n",
            "           1       0.50      0.40      0.44        45\n",
            "\n",
            "    accuracy                           0.50        90\n",
            "   macro avg       0.50      0.50      0.49        90\n",
            "weighted avg       0.50      0.50      0.49        90\n",
            "\n"
          ]
        }
      ]
    },
    {
      "cell_type": "markdown",
      "source": [
        "Randon Forest"
      ],
      "metadata": {
        "id": "2vd9F85UHm2G"
      }
    },
    {
      "cell_type": "code",
      "source": [
        "#create random forrest classifier\n",
        "rf = RandomForestClassifier()"
      ],
      "metadata": {
        "id": "A9p7IeNnHoWo"
      },
      "execution_count": null,
      "outputs": []
    },
    {
      "cell_type": "code",
      "source": [
        "#create parameters for testing\n",
        "rf_params = {'n_estimators': [100,200,500],\n",
        "            'max_features': [3,5,7],\n",
        "            'min_samples_split':[5,10,20]}"
      ],
      "metadata": {
        "id": "MOsEj6DOHqIr"
      },
      "execution_count": null,
      "outputs": []
    },
    {
      "cell_type": "code",
      "source": [
        "#use grid search cv to find best parameters\n",
        "rf_cv_model = GridSearchCV(rf, rf_params, cv=7, n_jobs=-1, verbose=1).fit(X_train, Y_train)"
      ],
      "metadata": {
        "colab": {
          "base_uri": "https://localhost:8080/"
        },
        "id": "jkx_eXSWHrpM",
        "outputId": "74de7a17-574c-4e0a-f9b1-7dc2d8fc6e7e"
      },
      "execution_count": null,
      "outputs": [
        {
          "output_type": "stream",
          "name": "stdout",
          "text": [
            "Fitting 7 folds for each of 27 candidates, totalling 189 fits\n"
          ]
        },
        {
          "output_type": "stream",
          "name": "stderr",
          "text": [
            "/usr/local/lib/python3.8/dist-packages/sklearn/model_selection/_validation.py:372: FitFailedWarning: \n",
            "63 fits failed out of a total of 189.\n",
            "The score on these train-test partitions for these parameters will be set to nan.\n",
            "If these failures are not expected, you can try to debug them by setting error_score='raise'.\n",
            "\n",
            "Below are more details about the failures:\n",
            "--------------------------------------------------------------------------------\n",
            "63 fits failed with the following error:\n",
            "Traceback (most recent call last):\n",
            "  File \"/usr/local/lib/python3.8/dist-packages/sklearn/model_selection/_validation.py\", line 680, in _fit_and_score\n",
            "    estimator.fit(X_train, y_train, **fit_params)\n",
            "  File \"/usr/local/lib/python3.8/dist-packages/sklearn/ensemble/_forest.py\", line 450, in fit\n",
            "    trees = Parallel(\n",
            "  File \"/usr/local/lib/python3.8/dist-packages/joblib/parallel.py\", line 1085, in __call__\n",
            "    if self.dispatch_one_batch(iterator):\n",
            "  File \"/usr/local/lib/python3.8/dist-packages/joblib/parallel.py\", line 901, in dispatch_one_batch\n",
            "    self._dispatch(tasks)\n",
            "  File \"/usr/local/lib/python3.8/dist-packages/joblib/parallel.py\", line 819, in _dispatch\n",
            "    job = self._backend.apply_async(batch, callback=cb)\n",
            "  File \"/usr/local/lib/python3.8/dist-packages/joblib/_parallel_backends.py\", line 208, in apply_async\n",
            "    result = ImmediateResult(func)\n",
            "  File \"/usr/local/lib/python3.8/dist-packages/joblib/_parallel_backends.py\", line 597, in __init__\n",
            "    self.results = batch()\n",
            "  File \"/usr/local/lib/python3.8/dist-packages/joblib/parallel.py\", line 288, in __call__\n",
            "    return [func(*args, **kwargs)\n",
            "  File \"/usr/local/lib/python3.8/dist-packages/joblib/parallel.py\", line 288, in <listcomp>\n",
            "    return [func(*args, **kwargs)\n",
            "  File \"/usr/local/lib/python3.8/dist-packages/sklearn/utils/fixes.py\", line 216, in __call__\n",
            "    return self.function(*args, **kwargs)\n",
            "  File \"/usr/local/lib/python3.8/dist-packages/sklearn/ensemble/_forest.py\", line 185, in _parallel_build_trees\n",
            "    tree.fit(X, y, sample_weight=curr_sample_weight, check_input=False)\n",
            "  File \"/usr/local/lib/python3.8/dist-packages/sklearn/tree/_classes.py\", line 937, in fit\n",
            "    super().fit(\n",
            "  File \"/usr/local/lib/python3.8/dist-packages/sklearn/tree/_classes.py\", line 308, in fit\n",
            "    raise ValueError(\"max_features must be in (0, n_features]\")\n",
            "ValueError: max_features must be in (0, n_features]\n",
            "\n",
            "  warnings.warn(some_fits_failed_message, FitFailedWarning)\n",
            "/usr/local/lib/python3.8/dist-packages/sklearn/model_selection/_search.py:969: UserWarning: One or more of the test scores are non-finite: [0.53641457 0.49439776 0.527688   0.50587158 0.53059685 0.54734971\n",
            " 0.54998923 0.53894635 0.54180134 0.51389787 0.5        0.50834949\n",
            " 0.51109675 0.53043525 0.52494075 0.53334411 0.51669899 0.54163973\n",
            "        nan        nan        nan        nan        nan        nan\n",
            "        nan        nan        nan]\n",
            "  warnings.warn(\n"
          ]
        }
      ]
    },
    {
      "cell_type": "code",
      "source": [
        "#find best parameters for best model\n",
        "best_params = rf_cv_model.best_params_\n",
        "print(best_params)"
      ],
      "metadata": {
        "colab": {
          "base_uri": "https://localhost:8080/"
        },
        "id": "EZwWhyUZHu8N",
        "outputId": "e313e91e-cf28-44d9-9ee6-00a71291083d"
      },
      "execution_count": null,
      "outputs": [
        {
          "output_type": "stream",
          "name": "stdout",
          "text": [
            "{'max_features': 3, 'min_samples_split': 20, 'n_estimators': 100}\n"
          ]
        }
      ]
    },
    {
      "cell_type": "code",
      "source": [
        "rf = RandomForestClassifier(max_features=best_params['max_features'], min_samples_split=best_params['min_samples_split'], n_estimators=best_params['n_estimators']).fit(X_train, Y_train)"
      ],
      "metadata": {
        "id": "junWObkdHwQD"
      },
      "execution_count": null,
      "outputs": []
    },
    {
      "cell_type": "code",
      "source": [
        "#create the predicitons from the model\n",
        "y_pred_rf = rf.predict(X_test)"
      ],
      "metadata": {
        "id": "u9abyVMLHx3y"
      },
      "execution_count": null,
      "outputs": []
    },
    {
      "cell_type": "code",
      "source": [
        "#get the accuracy score for the model\n",
        "accuracy_score(Y_test, y_pred_rf)"
      ],
      "metadata": {
        "colab": {
          "base_uri": "https://localhost:8080/"
        },
        "id": "EeqW1mwxHza1",
        "outputId": "88975135-c8f2-4ea0-bcfd-692e68e56189"
      },
      "execution_count": null,
      "outputs": [
        {
          "output_type": "execute_result",
          "data": {
            "text/plain": [
              "0.4888888888888889"
            ]
          },
          "metadata": {},
          "execution_count": 246
        }
      ]
    },
    {
      "cell_type": "code",
      "source": [
        "#get cross validation score for the model\n",
        "cross_val_score(rf, X_test, Y_test, cv=21).mean()"
      ],
      "metadata": {
        "colab": {
          "base_uri": "https://localhost:8080/"
        },
        "id": "GhVY_D6OH0z5",
        "outputId": "a6fefaf8-3a5e-4f4b-b085-8ab11007007f"
      },
      "execution_count": null,
      "outputs": [
        {
          "output_type": "execute_result",
          "data": {
            "text/plain": [
              "0.5809523809523809"
            ]
          },
          "metadata": {},
          "execution_count": 247
        }
      ]
    },
    {
      "cell_type": "code",
      "source": [
        "#get a classification report for the model\n",
        "print(classification_report(Y_test, y_pred_rf))"
      ],
      "metadata": {
        "colab": {
          "base_uri": "https://localhost:8080/"
        },
        "id": "UsTHdAOGH2fQ",
        "outputId": "bf3ae911-6408-4ad8-ebe4-3679f592c7c6"
      },
      "execution_count": null,
      "outputs": [
        {
          "output_type": "stream",
          "name": "stdout",
          "text": [
            "              precision    recall  f1-score   support\n",
            "\n",
            "           0       0.50      0.48      0.49        46\n",
            "           1       0.48      0.50      0.49        44\n",
            "\n",
            "    accuracy                           0.49        90\n",
            "   macro avg       0.49      0.49      0.49        90\n",
            "weighted avg       0.49      0.49      0.49        90\n",
            "\n"
          ]
        }
      ]
    },
    {
      "cell_type": "code",
      "source": [
        "#plot a confusion matrix for the model\n",
        "cm = confusion_matrix(Y_test, y_pred_rf)\n",
        "sns.heatmap(cm, annot=True, fmt=\"d\", cbar=False)\n",
        "plt.title('RF Confusion Matrix')\n",
        "plt.savefig('rf_con_mat')\n",
        "plt.show()"
      ],
      "metadata": {
        "colab": {
          "base_uri": "https://localhost:8080/",
          "height": 281
        },
        "id": "QlFpWpRxH3zC",
        "outputId": "45d16f32-3725-493f-d061-323ee3a8cc5e"
      },
      "execution_count": null,
      "outputs": [
        {
          "output_type": "display_data",
          "data": {
            "text/plain": [
              "<Figure size 432x288 with 1 Axes>"
            ],
            "image/png": "[encoded data removed]"
          },
          "metadata": {
            "needs_background": "light"
          }
        }
      ]
    }
  ]
}